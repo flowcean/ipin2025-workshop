{
 "cells": [
  {
   "cell_type": "markdown",
   "id": "895f3c55",
   "metadata": {},
   "source": [
    "# IPIN 2025 Flowcean Hands-on Session"
   ]
  },
  {
   "cell_type": "markdown",
   "id": "e03844bf",
   "metadata": {},
   "source": [
    "## Section 1 : Load and Prepare the Training Data"
   ]
  },
  {
   "cell_type": "code",
   "execution_count": 14,
   "id": "3e7a75a6",
   "metadata": {},
   "outputs": [],
   "source": [
    "import flowcean.cli\n",
    "\n",
    "config = flowcean.cli.initialize()"
   ]
  },
  {
   "cell_type": "markdown",
   "id": "842384e0",
   "metadata": {},
   "source": [
    "\n",
    "### Task 1.1 Load Rosbags and Choose Inputs"
   ]
  },
  {
   "cell_type": "code",
   "execution_count": 15,
   "id": "62ea77fb",
   "metadata": {
    "tags": [
     "hide-cell"
    ]
   },
   "outputs": [
    {
     "name": "stderr",
     "output_type": "stream",
     "text": [
      "2025-09-09 18:43:56,751 [flowcean.ros.rosbag][INFO] Loading data from cache...\n"
     ]
    },
    {
     "name": "stdout",
     "output_type": "stream",
     "text": [
      "shape: (1, 2)\n",
      "┌─────────────────────────────────┬─────────────────────────────────┐\n",
      "│ /turtle1/cmd_vel                ┆ /turtle1/pose                   │\n",
      "│ ---                             ┆ ---                             │\n",
      "│ list[struct[2]]                 ┆ list[struct[2]]                 │\n",
      "╞═════════════════════════════════╪═════════════════════════════════╡\n",
      "│ [{1755698408916415574,{2.0,0.0… ┆ [{1755698397155709229,{5.54444… │\n",
      "└─────────────────────────────────┴─────────────────────────────────┘\n"
     ]
    }
   ],
   "source": [
    "from flowcean.polars import DataFrame\n",
    "\n",
    "topics = {\n",
    "    \"/turtle1/cmd_vel\": [\"linear.x\", \"angular.z\"],\n",
    "    \"/turtle1/pose\": [\"x\", \"y\", \"theta\"],\n",
    "}\n",
    "# show current data structure without transforms\n",
    "rosbag_train = DataFrame.from_rosbag(config.rosbag.training_path, topics=topics)\n",
    "print(rosbag_train.observe().collect())"
   ]
  },
  {
   "cell_type": "markdown",
   "id": "e07f8a7e",
   "metadata": {},
   "source": [
    "### Task 1.2 Create Training Data Frame"
   ]
  },
  {
   "cell_type": "code",
   "execution_count": 16,
   "id": "2ad11fe9",
   "metadata": {},
   "outputs": [
    {
     "name": "stderr",
     "output_type": "stream",
     "text": [
      "2025-09-09 18:43:56,795 [flowcean.ros.rosbag][INFO] Loading data from cache...\n",
      "2025-09-09 18:43:56,796 [flowcean.ros.rosbag][INFO] Loading data from cache...\n"
     ]
    },
    {
     "name": "stdout",
     "output_type": "stream",
     "text": [
      "shape: (24_220, 9)\n",
      "┌───────────┬───────────┬───────────┬───────────┬───┬───────────┬───────────┬───────────┬──────────┐\n",
      "│ time      ┆ /turtle1/ ┆ /turtle1/ ┆ /turtle1/ ┆ … ┆ /turtle1/ ┆ /turtle1/ ┆ /turtle1/ ┆ /turtle1 │\n",
      "│ ---       ┆ cmd_vel/l ┆ cmd_vel/a ┆ pose/x    ┆   ┆ pose/thet ┆ pose/x_ne ┆ pose/y_ne ┆ /pose/th │\n",
      "│ i64       ┆ inear.x   ┆ ngular.z  ┆ ---       ┆   ┆ a         ┆ xt        ┆ xt        ┆ eta_next │\n",
      "│           ┆ ---       ┆ ---       ┆ f64       ┆   ┆ ---       ┆ ---       ┆ ---       ┆ ---      │\n",
      "│           ┆ f64       ┆ f64       ┆           ┆   ┆ f64       ┆ f64       ┆ f64       ┆ f64      │\n",
      "╞═══════════╪═══════════╪═══════════╪═══════════╪═══╪═══════════╪═══════════╪═══════════╪══════════╡\n",
      "│ 175569840 ┆ 2.0       ┆ 0.0       ┆ 5.544445  ┆ … ┆ 0.0       ┆ 5.576445  ┆ 5.544445  ┆ 0.0      │\n",
      "│ 891641557 ┆           ┆           ┆           ┆   ┆           ┆           ┆           ┆          │\n",
      "│ 4         ┆           ┆           ┆           ┆   ┆           ┆           ┆           ┆          │\n",
      "│ 175569840 ┆ 2.0       ┆ 0.0       ┆ 5.576445  ┆ … ┆ 0.0       ┆ 5.608445  ┆ 5.544445  ┆ 0.0      │\n",
      "│ 893194912 ┆           ┆           ┆           ┆   ┆           ┆           ┆           ┆          │\n",
      "│ 8         ┆           ┆           ┆           ┆   ┆           ┆           ┆           ┆          │\n",
      "│ 175569840 ┆ 2.0       ┆ 0.0       ┆ 5.608445  ┆ … ┆ 0.0       ┆ 5.640445  ┆ 5.544445  ┆ 0.0      │\n",
      "│ 894851149 ┆           ┆           ┆           ┆   ┆           ┆           ┆           ┆          │\n",
      "│ 7         ┆           ┆           ┆           ┆   ┆           ┆           ┆           ┆          │\n",
      "│ 175569840 ┆ 2.0       ┆ 0.0       ┆ 5.640445  ┆ … ┆ 0.0       ┆ 5.672444  ┆ 5.544445  ┆ 0.0      │\n",
      "│ 896418477 ┆           ┆           ┆           ┆   ┆           ┆           ┆           ┆          │\n",
      "│ 8         ┆           ┆           ┆           ┆   ┆           ┆           ┆           ┆          │\n",
      "│ 175569840 ┆ 2.0       ┆ 0.0       ┆ 5.672444  ┆ … ┆ 0.0       ┆ 5.704444  ┆ 5.544445  ┆ 0.0      │\n",
      "│ 898050814 ┆           ┆           ┆           ┆   ┆           ┆           ┆           ┆          │\n",
      "│ 7         ┆           ┆           ┆           ┆   ┆           ┆           ┆           ┆          │\n",
      "│ …         ┆ …         ┆ …         ┆ …         ┆ … ┆ …         ┆ …         ┆ …         ┆ …        │\n",
      "│ 175569873 ┆ 2.0       ┆ 0.0       ┆ 3.465826  ┆ … ┆ 1.460815  ┆ 3.465826  ┆ 9.562727  ┆ 1.460815 │\n",
      "│ 501225134 ┆           ┆           ┆           ┆   ┆           ┆           ┆           ┆          │\n",
      "│ 1         ┆           ┆           ┆           ┆   ┆           ┆           ┆           ┆          │\n",
      "│ 175569873 ┆ 2.0       ┆ 0.0       ┆ 3.465826  ┆ … ┆ 1.460815  ┆ 3.465826  ┆ 9.562727  ┆ 1.460815 │\n",
      "│ 502798053 ┆           ┆           ┆           ┆   ┆           ┆           ┆           ┆          │\n",
      "│ 2         ┆           ┆           ┆           ┆   ┆           ┆           ┆           ┆          │\n",
      "│ 175569873 ┆ 2.0       ┆ 0.0       ┆ 3.465826  ┆ … ┆ 1.460815  ┆ 3.465826  ┆ 9.562727  ┆ 1.460815 │\n",
      "│ 504445810 ┆           ┆           ┆           ┆   ┆           ┆           ┆           ┆          │\n",
      "│ 3         ┆           ┆           ┆           ┆   ┆           ┆           ┆           ┆          │\n",
      "│ 175569873 ┆ 2.0       ┆ 0.0       ┆ 3.465826  ┆ … ┆ 1.460815  ┆ 3.465826  ┆ 9.562727  ┆ 1.460815 │\n",
      "│ 506002515 ┆           ┆           ┆           ┆   ┆           ┆           ┆           ┆          │\n",
      "│ 1         ┆           ┆           ┆           ┆   ┆           ┆           ┆           ┆          │\n",
      "│ 175569873 ┆ 2.0       ┆ 0.0       ┆ 3.465826  ┆ … ┆ 1.460815  ┆ 3.465826  ┆ 9.562727  ┆ 1.460815 │\n",
      "│ 507666423 ┆           ┆           ┆           ┆   ┆           ┆           ┆           ┆          │\n",
      "│ 7         ┆           ┆           ┆           ┆   ┆           ┆           ┆           ┆          │\n",
      "└───────────┴───────────┴───────────┴───────────┴───┴───────────┴───────────┴───────────┴──────────┘\n"
     ]
    }
   ],
   "source": [
    "from _helper_functions import ShiftInTime\n",
    "from flowcean.polars import DataFrame, ExplodeTimeSeries, ZeroOrderHold\n",
    "\n",
    "transforms = (\n",
    "    ZeroOrderHold(\n",
    "        features=[\n",
    "            \"/turtle1/cmd_vel\",\n",
    "            \"/turtle1/pose\",\n",
    "        ],\n",
    "        name=\"measurements\",\n",
    "    )\n",
    "    | ExplodeTimeSeries(\"measurements\")\n",
    "    | ShiftInTime(\n",
    "        features=[\"/turtle1/pose/x\", \"/turtle1/pose/y\", \"/turtle1/pose/theta\"],\n",
    "        steps=1,\n",
    "        suffix=\"_next\",\n",
    "    )\n",
    ")\n",
    "\n",
    "training_environment = (\n",
    "    DataFrame.from_rosbag(config.rosbag.training_path, topics=topics) | transforms\n",
    ")\n",
    "evaluation_environment = (\n",
    "    DataFrame.from_rosbag(config.rosbag.evaluation_path, topics=topics) | transforms\n",
    ")\n",
    "print(training_environment.observe().collect())"
   ]
  },
  {
   "cell_type": "markdown",
   "id": "53475c82",
   "metadata": {},
   "source": [
    "## Section 2 : Select Learners across Libraries "
   ]
  },
  {
   "cell_type": "code",
   "execution_count": 17,
   "id": "f796dd04",
   "metadata": {},
   "outputs": [],
   "source": [
    "inputs = [\n",
    "    \"/turtle1/pose/x\",\n",
    "    \"/turtle1/pose/y\",\n",
    "    \"/turtle1/pose/theta\",\n",
    "    \"/turtle1/cmd_vel/linear.x\",\n",
    "    \"/turtle1/cmd_vel/angular.z\",\n",
    "]\n",
    "outputs = [\n",
    "    \"/turtle1/pose/x_next\",\n",
    "    \"/turtle1/pose/y_next\",\n",
    "    \"/turtle1/pose/theta_next\",\n",
    "]"
   ]
  },
  {
   "cell_type": "markdown",
   "id": "334c2595",
   "metadata": {},
   "source": [
    "### Task 2.1 Learner configuration"
   ]
  },
  {
   "cell_type": "code",
   "execution_count": 18,
   "id": "89c18a95",
   "metadata": {},
   "outputs": [],
   "source": [
    "from flowcean.sklearn import RandomForestRegressorLearner, RegressionTree\n",
    "from flowcean.torch import LightningLearner, MultilayerPerceptron\n",
    "from flowcean.xgboost import XGBoostRegressorLearner\n",
    "\n",
    "regression_tree = RegressionTree(max_leaf_nodes=config.training.tree.max_leaf_nodes)\n",
    "\n",
    "random_forest = RandomForestRegressorLearner(\n",
    "    n_estimators=config.training.forest.n_estimators,\n",
    "    max_depth=config.training.forest.max_depth,\n",
    ")\n",
    "\n",
    "mlp = LightningLearner(\n",
    "    module=MultilayerPerceptron(\n",
    "        learning_rate=config.training.mlp.learning_rate,\n",
    "        output_size=len(outputs),\n",
    "    ),\n",
    "    batch_size=config.training.mlp.batch_size,\n",
    "    max_epochs=config.training.mlp.max_epochs,\n",
    "    accelerator=\"cpu\",\n",
    ")\n",
    "\n",
    "xgb = XGBoostRegressorLearner()"
   ]
  },
  {
   "cell_type": "markdown",
   "id": "ce57354b",
   "metadata": {},
   "source": [
    "### Task 2.2 Prepare Sequential Learning"
   ]
  },
  {
   "cell_type": "code",
   "execution_count": 19,
   "id": "9c6639e8",
   "metadata": {},
   "outputs": [],
   "source": [
    "learners = [\n",
    "    regression_tree,\n",
    "    random_forest,\n",
    "    mlp,\n",
    "    xgb,\n",
    "]"
   ]
  },
  {
   "cell_type": "markdown",
   "id": "82cf79f6",
   "metadata": {},
   "source": [
    "## Section 3: Training of the Models"
   ]
  },
  {
   "cell_type": "markdown",
   "id": "fe91dd18",
   "metadata": {},
   "source": [
    "### Task 3.1 Create a Sequential Learning Loop"
   ]
  },
  {
   "cell_type": "code",
   "execution_count": 20,
   "id": "8fe0ed37",
   "metadata": {},
   "outputs": [
    {
     "name": "stderr",
     "output_type": "stream",
     "text": [
      "2025-09-09 18:43:56,907 [flowcean.core.strategies.offline][INFO] Learning with offline strategy\n",
      "2025-09-09 18:43:56,908 [flowcean.core.strategies.offline][INFO] Selecting input and output features\n",
      "2025-09-09 18:43:56,909 [flowcean.core.strategies.offline][INFO] Fitting transforms and applying them to features\n",
      "2025-09-09 18:43:56,909 [flowcean.core.strategies.offline][INFO] Fitting output transform and applying it to output features\n",
      "2025-09-09 18:43:56,909 [flowcean.core.strategies.offline][INFO] Learning model\n",
      "2025-09-09 18:43:56,955 [flowcean.core.strategies.offline][INFO] Learning with offline strategy\n",
      "2025-09-09 18:43:56,956 [flowcean.core.strategies.offline][INFO] Selecting input and output features\n",
      "2025-09-09 18:43:56,956 [flowcean.core.strategies.offline][INFO] Fitting transforms and applying them to features\n"
     ]
    },
    {
     "name": "stdout",
     "output_type": "stream",
     "text": [
      "Training model: RegressionTree\n",
      "Training model: RandomForestRegressorLearner\n"
     ]
    },
    {
     "name": "stderr",
     "output_type": "stream",
     "text": [
      "2025-09-09 18:43:56,956 [flowcean.core.strategies.offline][INFO] Fitting output transform and applying it to output features\n",
      "2025-09-09 18:43:56,957 [flowcean.core.strategies.offline][INFO] Learning model\n",
      "2025-09-09 18:43:59,218 [flowcean.sklearn.random_forest][INFO] Using Random Forest Regressor\n",
      "/home/markus/ros2_ws/src/flowcean/src/flowcean/sklearn/random_forest.py:85: PerformanceWarning: Determining the column names of a LazyFrame requires resolving its schema, which is a potentially expensive operation. Use `LazyFrame.collect_schema().names()` to get the column names without this warning.\n",
      "  output_names=outputs.columns,\n",
      "2025-09-09 18:43:59,219 [flowcean.core.strategies.offline][INFO] Learning with offline strategy\n",
      "2025-09-09 18:43:59,220 [flowcean.core.strategies.offline][INFO] Selecting input and output features\n",
      "2025-09-09 18:43:59,220 [flowcean.core.strategies.offline][INFO] Fitting transforms and applying them to features\n",
      "2025-09-09 18:43:59,221 [flowcean.core.strategies.offline][INFO] Fitting output transform and applying it to output features\n",
      "2025-09-09 18:43:59,221 [flowcean.core.strategies.offline][INFO] Learning model\n",
      "INFO: 💡 Tip: For seamless cloud uploads and versioning, try installing [litmodels](https://pypi.org/project/litmodels/) to enable LitModelCheckpoint, which syncs automatically with the Lightning model registry.\n",
      "2025-09-09 18:43:59,232 [lightning.pytorch.utilities.rank_zero][INFO] 💡 Tip: For seamless cloud uploads and versioning, try installing [litmodels](https://pypi.org/project/litmodels/) to enable LitModelCheckpoint, which syncs automatically with the Lightning model registry.\n",
      "INFO: GPU available: True (cuda), used: False\n",
      "2025-09-09 18:43:59,236 [lightning.pytorch.utilities.rank_zero][INFO] GPU available: True (cuda), used: False\n",
      "INFO: TPU available: False, using: 0 TPU cores\n",
      "2025-09-09 18:43:59,237 [lightning.pytorch.utilities.rank_zero][INFO] TPU available: False, using: 0 TPU cores\n",
      "INFO: HPU available: False, using: 0 HPUs\n",
      "2025-09-09 18:43:59,238 [lightning.pytorch.utilities.rank_zero][INFO] HPU available: False, using: 0 HPUs\n",
      "/home/markus/ipin-2025-workshop/.venv/lib/python3.10/site-packages/lightning/pytorch/trainer/setup.py:177: GPU available but not used. You can set it by doing `Trainer(accelerator='gpu')`.\n",
      "INFO: \n",
      "  | Name  | Type       | Params | Mode \n",
      "---------------------------------------------\n",
      "0 | model | Sequential | 0      | train\n",
      "---------------------------------------------\n",
      "0         Trainable params\n",
      "0         Non-trainable params\n",
      "0         Total params\n",
      "0.000     Total estimated model params size (MB)\n",
      "2         Modules in train mode\n",
      "0         Modules in eval mode\n",
      "2025-09-09 18:43:59,240 [lightning.pytorch.callbacks.model_summary][INFO] \n",
      "  | Name  | Type       | Params | Mode \n",
      "---------------------------------------------\n",
      "0 | model | Sequential | 0      | train\n",
      "---------------------------------------------\n",
      "0         Trainable params\n",
      "0         Non-trainable params\n",
      "0         Total params\n",
      "0.000     Total estimated model params size (MB)\n",
      "2         Modules in train mode\n",
      "0         Modules in eval mode\n"
     ]
    },
    {
     "name": "stdout",
     "output_type": "stream",
     "text": [
      "Training model: LightningLearner\n",
      "Epoch 1: 100%|██████████| 379/379 [00:01<00:00, 311.37it/s, v_num=7, train_loss=4.420]"
     ]
    },
    {
     "name": "stderr",
     "output_type": "stream",
     "text": [
      "INFO: `Trainer.fit` stopped: `max_epochs=2` reached.\n",
      "2025-09-09 18:44:01,718 [lightning.pytorch.utilities.rank_zero][INFO] `Trainer.fit` stopped: `max_epochs=2` reached.\n"
     ]
    },
    {
     "name": "stdout",
     "output_type": "stream",
     "text": [
      "Epoch 1: 100%|██████████| 379/379 [00:01<00:00, 310.51it/s, v_num=7, train_loss=4.420]\n"
     ]
    },
    {
     "name": "stderr",
     "output_type": "stream",
     "text": [
      "2025-09-09 18:44:01,746 [flowcean.core.strategies.offline][INFO] Learning with offline strategy\n"
     ]
    },
    {
     "name": "stdout",
     "output_type": "stream",
     "text": [
      "Training model: XGBoostRegressorLearner\n"
     ]
    },
    {
     "name": "stderr",
     "output_type": "stream",
     "text": [
      "2025-09-09 18:44:01,748 [flowcean.core.strategies.offline][INFO] Selecting input and output features\n",
      "2025-09-09 18:44:01,748 [flowcean.core.strategies.offline][INFO] Fitting transforms and applying them to features\n",
      "2025-09-09 18:44:01,748 [flowcean.core.strategies.offline][INFO] Fitting output transform and applying it to output features\n",
      "2025-09-09 18:44:01,749 [flowcean.core.strategies.offline][INFO] Learning model\n"
     ]
    }
   ],
   "source": [
    "from flowcean.core import learn_offline\n",
    "\n",
    "models = []\n",
    "for learner in learners:\n",
    "    print(f\"Training model: {learner.name}\")\n",
    "    model = learn_offline(\n",
    "        training_environment,\n",
    "        learner,\n",
    "        inputs=inputs,\n",
    "        outputs=outputs,\n",
    "    )\n",
    "    models.append(model)\n",
    "\n"
   ]
  },
  {
   "cell_type": "markdown",
   "id": "5594a375",
   "metadata": {},
   "source": [
    "## Section 4 : Evaluation and Model Comparison"
   ]
  },
  {
   "cell_type": "markdown",
   "id": "35e812e4",
   "metadata": {},
   "source": [
    "### Task 4.1 Chose Metrics for Evaluation"
   ]
  },
  {
   "cell_type": "code",
   "execution_count": 21,
   "id": "07980f90",
   "metadata": {},
   "outputs": [],
   "source": [
    "from euclidean_distance import MeanEuclideanDistance\n",
    "from flowcean.sklearn import MeanAbsoluteError, MeanSquaredError, R2Score\n",
    "\n",
    "metrics = [\n",
    "    MeanAbsoluteError(),\n",
    "    MeanSquaredError(),\n",
    "    R2Score(),\n",
    "    MeanEuclideanDistance(\n",
    "        features=[\"/turtle1/pose/x_next\", \"/turtle1/pose/y_next\"],\n",
    "    ),\n",
    "]"
   ]
  },
  {
   "cell_type": "markdown",
   "id": "de636b99",
   "metadata": {},
   "source": [
    "### Task 4.2 Create an Evaluation Loop"
   ]
  },
  {
   "cell_type": "code",
   "execution_count": 22,
   "id": "22e2f7eb",
   "metadata": {},
   "outputs": [
    {
     "name": "stderr",
     "output_type": "stream",
     "text": [
      "2025-09-09 18:44:01,955 [euclidean_distance][INFO] Computed EuclideanDistance over columns ['/turtle1/pose/x_next', '/turtle1/pose/y_next']: 0.699647\n",
      "2025-09-09 18:44:01,998 [euclidean_distance][INFO] Computed EuclideanDistance over columns ['/turtle1/pose/x_next', '/turtle1/pose/y_next']: 0.510113\n",
      "2025-09-09 18:44:02,183 [euclidean_distance][INFO] Computed EuclideanDistance over columns ['/turtle1/pose/x_next', '/turtle1/pose/y_next']: 2.894146\n",
      "2025-09-09 18:44:02,215 [euclidean_distance][INFO] Computed EuclideanDistance over columns ['/turtle1/pose/x_next', '/turtle1/pose/y_next']: 0.028081\n"
     ]
    },
    {
     "data": {
      "text/html": [
       "<div id=\"pgkuibirzl\" style=\"padding-left:0px;padding-right:0px;padding-top:10px;padding-bottom:10px;overflow-x:auto;overflow-y:auto;width:auto;height:auto;\">\n",
       "<style>\n",
       "#pgkuibirzl table {\n",
       "          font-family: -apple-system, BlinkMacSystemFont, 'Segoe UI', Roboto, Oxygen, Ubuntu, Cantarell, 'Helvetica Neue', 'Fira Sans', 'Droid Sans', Arial, sans-serif;\n",
       "          -webkit-font-smoothing: antialiased;\n",
       "          -moz-osx-font-smoothing: grayscale;\n",
       "        }\n",
       "\n",
       "#pgkuibirzl thead, tbody, tfoot, tr, td, th { border-style: none !important; }\n",
       " tr { background-color: transparent !important; }\n",
       "#pgkuibirzl p { margin: 0 !important; padding: 0 !important; }\n",
       " #pgkuibirzl .gt_table { display: table !important; border-collapse: collapse !important; line-height: normal !important; margin-left: auto !important; margin-right: auto !important; color: #333333 !important; font-size: 16px !important; font-weight: normal !important; font-style: normal !important; background-color: #FFFFFF !important; width: auto !important; border-top-style: solid !important; border-top-width: 2px !important; border-top-color: #929292 !important; border-right-style: none !important; border-right-width: 2px !important; border-right-color: #D3D3D3 !important; border-bottom-style: solid !important; border-bottom-width: 2px !important; border-bottom-color: #929292 !important; border-left-style: none !important; border-left-width: 2px !important; border-left-color: #D3D3D3 !important; }\n",
       " #pgkuibirzl .gt_caption { padding-top: 4px !important; padding-bottom: 4px !important; }\n",
       " #pgkuibirzl .gt_title { color: #333333 !important; font-size: 125% !important; font-weight: initial !important; padding-top: 4px !important; padding-bottom: 4px !important; padding-left: 5px !important; padding-right: 5px !important; border-bottom-color: #FFFFFF !important; border-bottom-width: 0 !important; }\n",
       " #pgkuibirzl .gt_subtitle { color: #333333 !important; font-size: 85% !important; font-weight: initial !important; padding-top: 3px !important; padding-bottom: 5px !important; padding-left: 5px !important; padding-right: 5px !important; border-top-color: #FFFFFF !important; border-top-width: 0 !important; }\n",
       " #pgkuibirzl .gt_heading { background-color: #FFFFFF !important; text-align: center !important; border-bottom-color: #FFFFFF !important; border-left-style: none !important; border-left-width: 1px !important; border-left-color: #D3D3D3 !important; border-right-style: none !important; border-right-width: 1px !important; border-right-color: #D3D3D3 !important; }\n",
       " #pgkuibirzl .gt_bottom_border { border-bottom-style: solid !important; border-bottom-width: 2px !important; border-bottom-color: #929292 !important; }\n",
       " #pgkuibirzl .gt_col_headings { border-top-style: solid !important; border-top-width: 2px !important; border-top-color: #929292 !important; border-bottom-style: solid !important; border-bottom-width: 2px !important; border-bottom-color: #929292 !important; border-left-style: none !important; border-left-width: 1px !important; border-left-color: #D3D3D3 !important; border-right-style: none !important; border-right-width: 1px !important; border-right-color: #D3D3D3 !important; }\n",
       " #pgkuibirzl .gt_col_heading { color: #FFFFFF !important; background-color: #004D80 !important; font-size: 100% !important; font-weight: normal !important; text-transform: inherit !important; border-left-style: none !important; border-left-width: 1px !important; border-left-color: #D3D3D3 !important; border-right-style: none !important; border-right-width: 1px !important; border-right-color: #D3D3D3 !important; vertical-align: bottom !important; padding-top: 5px !important; padding-bottom: 5px !important; padding-left: 5px !important; padding-right: 5px !important; overflow-x: hidden !important; }\n",
       " #pgkuibirzl .gt_column_spanner_outer { color: #FFFFFF !important; background-color: #004D80 !important; font-size: 100% !important; font-weight: normal !important; text-transform: inherit !important; padding-top: 0 !important; padding-bottom: 0 !important; padding-left: 4px !important; padding-right: 4px !important; }\n",
       " #pgkuibirzl .gt_column_spanner_outer:first-child { padding-left: 0 !important; }\n",
       " #pgkuibirzl .gt_column_spanner_outer:last-child { padding-right: 0 !important; }\n",
       " #pgkuibirzl .gt_column_spanner { border-bottom-style: solid !important; border-bottom-width: 2px !important; border-bottom-color: #929292 !important; vertical-align: bottom !important; padding-top: 5px !important; padding-bottom: 5px !important; overflow-x: hidden !important; display: inline-block !important; width: 100% !important; }\n",
       " #pgkuibirzl .gt_spanner_row { border-bottom-style: hidden !important; }\n",
       " #pgkuibirzl .gt_group_heading { padding-top: 8px !important; padding-bottom: 8px !important; padding-left: 5px !important; padding-right: 5px !important; color: #333333 !important; background-color: #FFFFFF !important; font-size: 100% !important; font-weight: initial !important; text-transform: inherit !important; border-top-style: solid !important; border-top-width: 2px !important; border-top-color: #929292 !important; border-bottom-style: solid !important; border-bottom-width: 2px !important; border-bottom-color: #929292 !important; border-left-style: none !important; border-left-width: 1px !important; border-left-color: #D3D3D3 !important; border-right-style: none !important; border-right-width: 1px !important; border-right-color: #D3D3D3 !important; vertical-align: middle !important; text-align: left !important; }\n",
       " #pgkuibirzl .gt_empty_group_heading { padding: 0.5px !important; color: #333333 !important; background-color: #FFFFFF !important; font-size: 100% !important; font-weight: initial !important; border-top-style: solid !important; border-top-width: 2px !important; border-top-color: #929292 !important; border-bottom-style: solid !important; border-bottom-width: 2px !important; border-bottom-color: #929292 !important; vertical-align: middle !important; }\n",
       " #pgkuibirzl .gt_from_md> :first-child { margin-top: 0 !important; }\n",
       " #pgkuibirzl .gt_from_md> :last-child { margin-bottom: 0 !important; }\n",
       " #pgkuibirzl .gt_row { padding-top: 8px !important; padding-bottom: 8px !important; padding-left: 5px !important; padding-right: 5px !important; margin: 10px !important; border-top-style: dashed !important; border-top-width: 1px !important; border-top-color: #929292 !important; border-left-style: none !important; border-left-width: 1px !important; border-left-color: #929292 !important; border-right-style: none !important; border-right-width: 1px !important; border-right-color: #929292 !important; vertical-align: middle !important; overflow-x: hidden !important; }\n",
       " #pgkuibirzl .gt_stub { color: #333333 !important; background-color: #D5D5D5 !important; font-size: 100% !important; font-weight: initial !important; text-transform: inherit !important; border-right-style: none !important; border-right-width: 2px !important; border-right-color: #FFFFFF !important; padding-left: 5px !important; padding-right: 5px !important; }\n",
       " #pgkuibirzl .gt_stub_row_group { color: #333333 !important; background-color: #FFFFFF !important; font-size: 100% !important; font-weight: initial !important; text-transform: inherit !important; border-right-style: solid !important; border-right-width: 2px !important; border-right-color: #D3D3D3 !important; padding-left: 5px !important; padding-right: 5px !important; vertical-align: top !important; }\n",
       " #pgkuibirzl .gt_row_group_first td { border-top-width: 2px !important; }\n",
       " #pgkuibirzl .gt_row_group_first th { border-top-width: 2px !important; }\n",
       " #pgkuibirzl .gt_striped { background-color: #F4F4F4 !important; }\n",
       " #pgkuibirzl .gt_table_body { border-top-style: solid !important; border-top-width: 2px !important; border-top-color: #929292 !important; border-bottom-style: solid !important; border-bottom-width: 2px !important; border-bottom-color: #929292 !important; }\n",
       " #pgkuibirzl .gt_sourcenotes { color: #333333 !important; background-color: #FFFFFF !important; border-bottom-style: none !important; border-bottom-width: 2px !important; border-bottom-color: #D3D3D3 !important; border-left-style: none !important; border-left-width: 2px !important; border-left-color: #D3D3D3 !important; border-right-style: none !important; border-right-width: 2px !important; border-right-color: #D3D3D3 !important; }\n",
       " #pgkuibirzl .gt_sourcenote { font-size: 90% !important; padding-top: 4px !important; padding-bottom: 4px !important; padding-left: 5px !important; padding-right: 5px !important; text-align: left !important; }\n",
       " #pgkuibirzl .gt_left { text-align: left !important; }\n",
       " #pgkuibirzl .gt_center { text-align: center !important; }\n",
       " #pgkuibirzl .gt_right { text-align: right !important; font-variant-numeric: tabular-nums !important; }\n",
       " #pgkuibirzl .gt_font_normal { font-weight: normal !important; }\n",
       " #pgkuibirzl .gt_font_bold { font-weight: bold !important; }\n",
       " #pgkuibirzl .gt_font_italic { font-style: italic !important; }\n",
       " #pgkuibirzl .gt_super { font-size: 65% !important; }\n",
       " #pgkuibirzl .gt_footnote_marks { font-size: 75% !important; vertical-align: 0.4em !important; position: initial !important; }\n",
       " #pgkuibirzl .gt_asterisk { font-size: 100% !important; vertical-align: 0 !important; }\n",
       " \n",
       "</style>\n",
       "<table class=\"gt_table\" data-quarto-disable-processing=\"false\" data-quarto-bootstrap=\"false\">\n",
       "<thead>\n",
       "\n",
       "  <tr class=\"gt_heading\">\n",
       "    <td colspan=\"11\" class=\"gt_heading gt_title gt_font_normal\">Model Evaluation Report</td>\n",
       "  </tr>\n",
       "  <tr class=\"gt_heading\">\n",
       "    <td colspan=\"11\" class=\"gt_heading gt_subtitle gt_font_normal gt_bottom_border\">Metrics for each trained model</td>\n",
       "  </tr>\n",
       "<tr class=\"gt_col_headings gt_spanner_row\">\n",
       "  <th class=\"gt_col_heading gt_columns_bottom_border gt_left\" rowspan=\"2\" colspan=\"1\" scope=\"col\" id=\"Model\">Model</th>\n",
       "  <th class=\"gt_center gt_columns_top_border gt_column_spanner_outer\" rowspan=\"1\" colspan=\"3\" scope=\"colgroup\" id=\"MeanAbsoluteError\">\n",
       "    <span class=\"gt_column_spanner\">MeanAbsoluteError</span>\n",
       "  </th>\n",
       "  <th class=\"gt_center gt_columns_top_border gt_column_spanner_outer\" rowspan=\"1\" colspan=\"3\" scope=\"colgroup\" id=\"MeanSquaredError\">\n",
       "    <span class=\"gt_column_spanner\">MeanSquaredError</span>\n",
       "  </th>\n",
       "  <th class=\"gt_center gt_columns_top_border gt_column_spanner_outer\" rowspan=\"1\" colspan=\"3\" scope=\"colgroup\" id=\"R2Score\">\n",
       "    <span class=\"gt_column_spanner\">R2Score</span>\n",
       "  </th>\n",
       "  <th class=\"gt_col_heading gt_columns_bottom_border gt_right\" rowspan=\"2\" colspan=\"1\" scope=\"col\" id=\"MeanEuclideanDistance\">MeanEuclideanDistance</th>\n",
       "</tr>\n",
       "<tr class=\"gt_col_headings\">\n",
       "  <th class=\"gt_col_heading gt_columns_bottom_border gt_right\" rowspan=\"1\" colspan=\"1\" scope=\"col\" id=\"MeanAbsoluteError:-/turtle1/pose/x_next\">/turtle1/pose/x_next</th>\n",
       "  <th class=\"gt_col_heading gt_columns_bottom_border gt_right\" rowspan=\"1\" colspan=\"1\" scope=\"col\" id=\"MeanAbsoluteError:-/turtle1/pose/y_next\">/turtle1/pose/y_next</th>\n",
       "  <th class=\"gt_col_heading gt_columns_bottom_border gt_right\" rowspan=\"1\" colspan=\"1\" scope=\"col\" id=\"MeanAbsoluteError:-/turtle1/pose/theta_next\">/turtle1/pose/theta_next</th>\n",
       "  <th class=\"gt_col_heading gt_columns_bottom_border gt_right\" rowspan=\"1\" colspan=\"1\" scope=\"col\" id=\"MeanSquaredError:-/turtle1/pose/x_next\">/turtle1/pose/x_next</th>\n",
       "  <th class=\"gt_col_heading gt_columns_bottom_border gt_right\" rowspan=\"1\" colspan=\"1\" scope=\"col\" id=\"MeanSquaredError:-/turtle1/pose/y_next\">/turtle1/pose/y_next</th>\n",
       "  <th class=\"gt_col_heading gt_columns_bottom_border gt_right\" rowspan=\"1\" colspan=\"1\" scope=\"col\" id=\"MeanSquaredError:-/turtle1/pose/theta_next\">/turtle1/pose/theta_next</th>\n",
       "  <th class=\"gt_col_heading gt_columns_bottom_border gt_right\" rowspan=\"1\" colspan=\"1\" scope=\"col\" id=\"R2Score:-/turtle1/pose/x_next\">/turtle1/pose/x_next</th>\n",
       "  <th class=\"gt_col_heading gt_columns_bottom_border gt_right\" rowspan=\"1\" colspan=\"1\" scope=\"col\" id=\"R2Score:-/turtle1/pose/y_next\">/turtle1/pose/y_next</th>\n",
       "  <th class=\"gt_col_heading gt_columns_bottom_border gt_right\" rowspan=\"1\" colspan=\"1\" scope=\"col\" id=\"R2Score:-/turtle1/pose/theta_next\">/turtle1/pose/theta_next</th>\n",
       "</tr>\n",
       "</thead>\n",
       "<tbody class=\"gt_table_body\">\n",
       "  <tr>\n",
       "    <th class=\"gt_row gt_left gt_stub\">DecisionTreeRegressor</th>\n",
       "    <td class=\"gt_row gt_right\">0.39</td>\n",
       "    <td class=\"gt_row gt_right\">0.45</td>\n",
       "    <td class=\"gt_row gt_right\">0.48</td>\n",
       "    <td class=\"gt_row gt_right\">0.31</td>\n",
       "    <td class=\"gt_row gt_right\">0.49</td>\n",
       "    <td class=\"gt_row gt_right\">0.51</td>\n",
       "    <td class=\"gt_row gt_right\">0.96</td>\n",
       "    <td class=\"gt_row gt_right\">0.94</td>\n",
       "    <td class=\"gt_row gt_right\">0.80</td>\n",
       "    <td class=\"gt_row gt_right\">0.70</td>\n",
       "  </tr>\n",
       "  <tr>\n",
       "    <th class=\"gt_row gt_left gt_stub\">RandomForestRegressor</th>\n",
       "    <td class=\"gt_row gt_right gt_striped\">0.31</td>\n",
       "    <td class=\"gt_row gt_right gt_striped\">0.32</td>\n",
       "    <td class=\"gt_row gt_right gt_striped\">0.36</td>\n",
       "    <td class=\"gt_row gt_right gt_striped\">0.19</td>\n",
       "    <td class=\"gt_row gt_right gt_striped\">0.22</td>\n",
       "    <td class=\"gt_row gt_right gt_striped\">0.29</td>\n",
       "    <td class=\"gt_row gt_right gt_striped\">0.98</td>\n",
       "    <td class=\"gt_row gt_right gt_striped\">0.97</td>\n",
       "    <td class=\"gt_row gt_right gt_striped\">0.88</td>\n",
       "    <td class=\"gt_row gt_right gt_striped\">0.51</td>\n",
       "  </tr>\n",
       "  <tr>\n",
       "    <th class=\"gt_row gt_left gt_stub\">PyTorchModel</th>\n",
       "    <td class=\"gt_row gt_right\">1.78</td>\n",
       "    <td class=\"gt_row gt_right\">2.13</td>\n",
       "    <td class=\"gt_row gt_right\">1.26</td>\n",
       "    <td class=\"gt_row gt_right\">4.53</td>\n",
       "    <td class=\"gt_row gt_right\">6.73</td>\n",
       "    <td class=\"gt_row gt_right\">2.23</td>\n",
       "    <td class=\"gt_row gt_right\">0.45</td>\n",
       "    <td class=\"gt_row gt_right\">0.22</td>\n",
       "    <td class=\"gt_row gt_right\">0.13</td>\n",
       "    <td class=\"gt_row gt_right\">2.89</td>\n",
       "  </tr>\n",
       "  <tr>\n",
       "    <th class=\"gt_row gt_left gt_stub\">XGBoostRegressorModel</th>\n",
       "    <td class=\"gt_row gt_right gt_striped\">0.02</td>\n",
       "    <td class=\"gt_row gt_right gt_striped\">0.02</td>\n",
       "    <td class=\"gt_row gt_right gt_striped\">0.02</td>\n",
       "    <td class=\"gt_row gt_right gt_striped\">0.00</td>\n",
       "    <td class=\"gt_row gt_right gt_striped\">0.00</td>\n",
       "    <td class=\"gt_row gt_right gt_striped\">0.03</td>\n",
       "    <td class=\"gt_row gt_right gt_striped\">1.00</td>\n",
       "    <td class=\"gt_row gt_right gt_striped\">1.00</td>\n",
       "    <td class=\"gt_row gt_right gt_striped\">0.99</td>\n",
       "    <td class=\"gt_row gt_right gt_striped\">0.03</td>\n",
       "  </tr>\n",
       "</tbody>\n",
       "\n",
       "\n",
       "</table>\n",
       "\n",
       "</div>\n",
       "        "
      ],
      "text/plain": [
       "GT(_tbl_data=shape: (4, 11)\n",
       "┌───────────┬───────────┬───────────┬───────────┬───┬───────────┬───────────┬───────────┬──────────┐\n",
       "│ model     ┆ MeanAbsol ┆ MeanAbsol ┆ MeanAbsol ┆ … ┆ R2Score:  ┆ R2Score:  ┆ R2Score:  ┆ MeanEucl │\n",
       "│ ---       ┆ uteError: ┆ uteError: ┆ uteError: ┆   ┆ /turtle1/ ┆ /turtle1/ ┆ /turtle1/ ┆ ideanDis │\n",
       "│ str       ┆ /turtle1/ ┆ /turtle1/ ┆ /turtle1/ ┆   ┆ pose/x_ne ┆ pose/y_ne ┆ pose/thet ┆ tance    │\n",
       "│           ┆ po…       ┆ po…       ┆ po…       ┆   ┆ xt        ┆ xt        ┆ a_n…      ┆ ---      │\n",
       "│           ┆ ---       ┆ ---       ┆ ---       ┆   ┆ ---       ┆ ---       ┆ ---       ┆ f64      │\n",
       "│           ┆ f64       ┆ f64       ┆ f64       ┆   ┆ f64       ┆ f64       ┆ f64       ┆          │\n",
       "╞═══════════╪═══════════╪═══════════╪═══════════╪═══╪═══════════╪═══════════╪═══════════╪══════════╡\n",
       "│ DecisionT ┆ 0.394003  ┆ 0.446589  ┆ 0.478612  ┆ … ┆ 0.961581  ┆ 0.94368   ┆ 0.799781  ┆ 0.699647 │\n",
       "│ reeRegres ┆           ┆           ┆           ┆   ┆           ┆           ┆           ┆          │\n",
       "│ sor       ┆           ┆           ┆           ┆   ┆           ┆           ┆           ┆          │\n",
       "│ RandomFor ┆ 0.305489  ┆ 0.324745  ┆ 0.35891   ┆ … ┆ 0.976956  ┆ 0.974238  ┆ 0.884935  ┆ 0.510113 │\n",
       "│ estRegres ┆           ┆           ┆           ┆   ┆           ┆           ┆           ┆          │\n",
       "│ sor       ┆           ┆           ┆           ┆   ┆           ┆           ┆           ┆          │\n",
       "│ PyTorchMo ┆ 1.775388  ┆ 2.126036  ┆ 1.257333  ┆ … ┆ 0.446361  ┆ 0.21916   ┆ 0.127842  ┆ 2.894146 │\n",
       "│ del       ┆           ┆           ┆           ┆   ┆           ┆           ┆           ┆          │\n",
       "│ XGBoostRe ┆ 0.018843  ┆ 0.016533  ┆ 0.024136  ┆ … ┆ 0.999923  ┆ 0.999949  ┆ 0.990074  ┆ 0.028081 │\n",
       "│ gressorMo ┆           ┆           ┆           ┆   ┆           ┆           ┆           ┆          │\n",
       "│ del       ┆           ┆           ┆           ┆   ┆           ┆           ┆           ┆          │\n",
       "└───────────┴───────────┴───────────┴───────────┴───┴───────────┴───────────┴───────────┴──────────┘, _body=<great_tables._gt_data.Body object at 0x739f52006590>, _boxhead=Boxhead([ColInfo(var='model', type=<ColInfoTypeEnum.stub: 2>, column_label='model', column_align='left', column_width=None), ColInfo(var='MeanAbsoluteError: /turtle1/pose/x_next', type=<ColInfoTypeEnum.default: 1>, column_label='/turtle1/pose/x_next', column_align='right', column_width=None), ColInfo(var='MeanAbsoluteError: /turtle1/pose/y_next', type=<ColInfoTypeEnum.default: 1>, column_label='/turtle1/pose/y_next', column_align='right', column_width=None), ColInfo(var='MeanAbsoluteError: /turtle1/pose/theta_next', type=<ColInfoTypeEnum.default: 1>, column_label='/turtle1/pose/theta_next', column_align='right', column_width=None), ColInfo(var='MeanSquaredError: /turtle1/pose/x_next', type=<ColInfoTypeEnum.default: 1>, column_label='/turtle1/pose/x_next', column_align='right', column_width=None), ColInfo(var='MeanSquaredError: /turtle1/pose/y_next', type=<ColInfoTypeEnum.default: 1>, column_label='/turtle1/pose/y_next', column_align='right', column_width=None), ColInfo(var='MeanSquaredError: /turtle1/pose/theta_next', type=<ColInfoTypeEnum.default: 1>, column_label='/turtle1/pose/theta_next', column_align='right', column_width=None), ColInfo(var='R2Score: /turtle1/pose/x_next', type=<ColInfoTypeEnum.default: 1>, column_label='/turtle1/pose/x_next', column_align='right', column_width=None), ColInfo(var='R2Score: /turtle1/pose/y_next', type=<ColInfoTypeEnum.default: 1>, column_label='/turtle1/pose/y_next', column_align='right', column_width=None), ColInfo(var='R2Score: /turtle1/pose/theta_next', type=<ColInfoTypeEnum.default: 1>, column_label='/turtle1/pose/theta_next', column_align='right', column_width=None), ColInfo(var='MeanEuclideanDistance', type=<ColInfoTypeEnum.default: 1>, column_label='MeanEuclideanDistance', column_align='right', column_width=None)]), _stub=<great_tables._gt_data.Stub object at 0x73a10e75f7c0>, _spanners=Spanners([SpannerInfo(spanner_id='MeanAbsoluteError', spanner_level=0, spanner_label='MeanAbsoluteError', spanner_units=None, spanner_pattern=None, vars=['MeanAbsoluteError: /turtle1/pose/x_next', 'MeanAbsoluteError: /turtle1/pose/y_next', 'MeanAbsoluteError: /turtle1/pose/theta_next'], built=None), SpannerInfo(spanner_id='MeanSquaredError', spanner_level=0, spanner_label='MeanSquaredError', spanner_units=None, spanner_pattern=None, vars=['MeanSquaredError: /turtle1/pose/x_next', 'MeanSquaredError: /turtle1/pose/y_next', 'MeanSquaredError: /turtle1/pose/theta_next'], built=None), SpannerInfo(spanner_id='R2Score', spanner_level=0, spanner_label='R2Score', spanner_units=None, spanner_pattern=None, vars=['R2Score: /turtle1/pose/x_next', 'R2Score: /turtle1/pose/y_next', 'R2Score: /turtle1/pose/theta_next'], built=None)]), _heading=Heading(title='Model Evaluation Report', subtitle='Metrics for each trained model', preheader=None), _stubhead='Model', _source_notes=[], _footnotes=[], _styles=[], _locale=<great_tables._gt_data.Locale object at 0x73a10e75f430>, _formats=[<great_tables._gt_data.FormatInfo object at 0x739f44532410>], _substitutions=[], _options=Options(table_id=OptionsInfo(scss=False, category='table', type='value', value=None), table_caption=OptionsInfo(scss=False, category='table', type='value', value=None), table_width=OptionsInfo(scss=True, category='table', type='px', value='auto'), table_layout=OptionsInfo(scss=True, category='table', type='value', value='fixed'), table_margin_left=OptionsInfo(scss=True, category='table', type='px', value='auto'), table_margin_right=OptionsInfo(scss=True, category='table', type='px', value='auto'), table_background_color=OptionsInfo(scss=True, category='table', type='value', value='#FFFFFF'), table_additional_css=OptionsInfo(scss=False, category='table', type='values', value=[]), table_font_names=OptionsInfo(scss=False, category='table', type='values', value=['-apple-system', 'BlinkMacSystemFont', 'Segoe UI', 'Roboto', 'Oxygen', 'Ubuntu', 'Cantarell', 'Helvetica Neue', 'Fira Sans', 'Droid Sans', 'Arial', 'sans-serif']), table_font_size=OptionsInfo(scss=True, category='table', type='px', value='16px'), table_font_weight=OptionsInfo(scss=True, category='table', type='value', value='normal'), table_font_style=OptionsInfo(scss=True, category='table', type='value', value='normal'), table_font_color=OptionsInfo(scss=True, category='table', type='value', value='#333333'), table_font_color_light=OptionsInfo(scss=True, category='table', type='value', value='#FFFFFF'), table_border_top_include=OptionsInfo(scss=False, category='table', type='boolean', value=True), table_border_top_style=OptionsInfo(scss=True, category='table', type='value', value='solid'), table_border_top_width=OptionsInfo(scss=True, category='table', type='px', value='2px'), table_border_top_color=OptionsInfo(scss=True, category='table', type='value', value='#929292'), table_border_right_style=OptionsInfo(scss=True, category='table', type='value', value='none'), table_border_right_width=OptionsInfo(scss=True, category='table', type='px', value='2px'), table_border_right_color=OptionsInfo(scss=True, category='table', type='value', value='#D3D3D3'), table_border_bottom_include=OptionsInfo(scss=False, category='table', type='boolean', value=True), table_border_bottom_style=OptionsInfo(scss=True, category='table', type='value', value='solid'), table_border_bottom_width=OptionsInfo(scss=True, category='table', type='px', value='2px'), table_border_bottom_color=OptionsInfo(scss=True, category='table', type='value', value='#929292'), table_border_left_style=OptionsInfo(scss=True, category='table', type='value', value='none'), table_border_left_width=OptionsInfo(scss=True, category='table', type='px', value='2px'), table_border_left_color=OptionsInfo(scss=True, category='table', type='value', value='#D3D3D3'), heading_background_color=OptionsInfo(scss=True, category='heading', type='value', value=None), heading_align=OptionsInfo(scss=True, category='heading', type='value', value='center'), heading_title_font_size=OptionsInfo(scss=True, category='heading', type='px', value='125%'), heading_title_font_weight=OptionsInfo(scss=True, category='heading', type='value', value='initial'), heading_subtitle_font_size=OptionsInfo(scss=True, category='heading', type='px', value='85%'), heading_subtitle_font_weight=OptionsInfo(scss=True, category='heading', type='value', value='initial'), heading_padding=OptionsInfo(scss=True, category='heading', type='px', value='4px'), heading_padding_horizontal=OptionsInfo(scss=True, category='heading', type='px', value='5px'), heading_border_bottom_style=OptionsInfo(scss=True, category='heading', type='value', value='solid'), heading_border_bottom_width=OptionsInfo(scss=True, category='heading', type='px', value='2px'), heading_border_bottom_color=OptionsInfo(scss=True, category='heading', type='value', value='#929292'), heading_border_lr_style=OptionsInfo(scss=True, category='heading', type='value', value='none'), heading_border_lr_width=OptionsInfo(scss=True, category='heading', type='px', value='1px'), heading_border_lr_color=OptionsInfo(scss=True, category='heading', type='value', value='#D3D3D3'), column_labels_background_color=OptionsInfo(scss=True, category='column_labels', type='value', value='#004D80'), column_labels_font_size=OptionsInfo(scss=True, category='column_labels', type='px', value='100%'), column_labels_font_weight=OptionsInfo(scss=True, category='column_labels', type='value', value='normal'), column_labels_text_transform=OptionsInfo(scss=True, category='column_labels', type='value', value='inherit'), column_labels_padding=OptionsInfo(scss=True, category='column_labels', type='px', value='5px'), column_labels_padding_horizontal=OptionsInfo(scss=True, category='column_labels', type='px', value='5px'), column_labels_vlines_style=OptionsInfo(scss=True, category='table_body', type='value', value='none'), column_labels_vlines_width=OptionsInfo(scss=True, category='table_body', type='px', value='1px'), column_labels_vlines_color=OptionsInfo(scss=True, category='table_body', type='value', value='#D3D3D3'), column_labels_border_top_style=OptionsInfo(scss=True, category='column_labels', type='value', value='solid'), column_labels_border_top_width=OptionsInfo(scss=True, category='column_labels', type='px', value='2px'), column_labels_border_top_color=OptionsInfo(scss=True, category='column_labels', type='value', value='#929292'), column_labels_border_bottom_style=OptionsInfo(scss=True, category='column_labels', type='value', value='solid'), column_labels_border_bottom_width=OptionsInfo(scss=True, category='column_labels', type='px', value='2px'), column_labels_border_bottom_color=OptionsInfo(scss=True, category='column_labels', type='value', value='#929292'), column_labels_border_lr_style=OptionsInfo(scss=True, category='column_labels', type='value', value='none'), column_labels_border_lr_width=OptionsInfo(scss=True, category='column_labels', type='px', value='1px'), column_labels_border_lr_color=OptionsInfo(scss=True, category='column_labels', type='value', value='#D3D3D3'), column_labels_hidden=OptionsInfo(scss=False, category='column_labels', type='boolean', value=False), row_group_background_color=OptionsInfo(scss=True, category='row_group', type='value', value=None), row_group_font_size=OptionsInfo(scss=True, category='row_group', type='px', value='100%'), row_group_font_weight=OptionsInfo(scss=True, category='row_group', type='value', value='initial'), row_group_text_transform=OptionsInfo(scss=True, category='row_group', type='value', value='inherit'), row_group_padding=OptionsInfo(scss=True, category='row_group', type='px', value='8px'), row_group_padding_horizontal=OptionsInfo(scss=True, category='row_group', type='px', value='5px'), row_group_border_top_style=OptionsInfo(scss=True, category='row_group', type='value', value='solid'), row_group_border_top_width=OptionsInfo(scss=True, category='row_group', type='px', value='2px'), row_group_border_top_color=OptionsInfo(scss=True, category='row_group', type='value', value='#929292'), row_group_border_right_style=OptionsInfo(scss=True, category='row_group', type='value', value='none'), row_group_border_right_width=OptionsInfo(scss=True, category='row_group', type='px', value='1px'), row_group_border_right_color=OptionsInfo(scss=True, category='row_group', type='value', value='#D3D3D3'), row_group_border_bottom_style=OptionsInfo(scss=True, category='row_group', type='value', value='solid'), row_group_border_bottom_width=OptionsInfo(scss=True, category='row_group', type='px', value='2px'), row_group_border_bottom_color=OptionsInfo(scss=True, category='row_group', type='value', value='#929292'), row_group_border_left_style=OptionsInfo(scss=True, category='row_group', type='value', value='none'), row_group_border_left_width=OptionsInfo(scss=True, category='row_group', type='px', value='1px'), row_group_border_left_color=OptionsInfo(scss=True, category='row_group', type='value', value='#D3D3D3'), row_group_as_column=OptionsInfo(scss=False, category='row_group', type='boolean', value=False), table_body_hlines_style=OptionsInfo(scss=True, category='table_body', type='value', value='dashed'), table_body_hlines_width=OptionsInfo(scss=True, category='table_body', type='px', value='1px'), table_body_hlines_color=OptionsInfo(scss=True, category='table_body', type='value', value='#929292'), table_body_vlines_style=OptionsInfo(scss=True, category='table_body', type='value', value='none'), table_body_vlines_width=OptionsInfo(scss=True, category='table_body', type='px', value='1px'), table_body_vlines_color=OptionsInfo(scss=True, category='table_body', type='value', value='#929292'), table_body_border_top_style=OptionsInfo(scss=True, category='table_body', type='value', value='solid'), table_body_border_top_width=OptionsInfo(scss=True, category='table_body', type='px', value='2px'), table_body_border_top_color=OptionsInfo(scss=True, category='table_body', type='value', value='#929292'), table_body_border_bottom_style=OptionsInfo(scss=True, category='table_body', type='value', value='solid'), table_body_border_bottom_width=OptionsInfo(scss=True, category='table_body', type='px', value='2px'), table_body_border_bottom_color=OptionsInfo(scss=True, category='table_body', type='value', value='#929292'), data_row_padding=OptionsInfo(scss=True, category='data_row', type='px', value='8px'), data_row_padding_horizontal=OptionsInfo(scss=True, category='data_row', type='px', value='5px'), stub_background_color=OptionsInfo(scss=True, category='stub', type='value', value='#D5D5D5'), stub_font_size=OptionsInfo(scss=True, category='stub', type='px', value='100%'), stub_font_weight=OptionsInfo(scss=True, category='stub', type='value', value='initial'), stub_text_transform=OptionsInfo(scss=True, category='stub', type='value', value='inherit'), stub_border_style=OptionsInfo(scss=True, category='stub', type='value', value='none'), stub_border_width=OptionsInfo(scss=True, category='stub', type='px', value='2px'), stub_border_color=OptionsInfo(scss=True, category='stub', type='value', value='#FFFFFF'), stub_row_group_background_color=OptionsInfo(scss=True, category='stub', type='value', value=None), stub_row_group_font_size=OptionsInfo(scss=True, category='stub', type='px', value='100%'), stub_row_group_font_weight=OptionsInfo(scss=True, category='stub', type='value', value='initial'), stub_row_group_text_transform=OptionsInfo(scss=True, category='stub', type='value', value='inherit'), stub_row_group_border_style=OptionsInfo(scss=True, category='stub', type='value', value='solid'), stub_row_group_border_width=OptionsInfo(scss=True, category='stub', type='px', value='2px'), stub_row_group_border_color=OptionsInfo(scss=True, category='stub', type='value', value='#D3D3D3'), source_notes_padding=OptionsInfo(scss=True, category='source_notes', type='px', value='4px'), source_notes_padding_horizontal=OptionsInfo(scss=True, category='source_notes', type='px', value='5px'), source_notes_background_color=OptionsInfo(scss=True, category='source_notes', type='value', value=None), source_notes_font_size=OptionsInfo(scss=True, category='source_notes', type='px', value='90%'), source_notes_border_bottom_style=OptionsInfo(scss=True, category='source_notes', type='value', value='none'), source_notes_border_bottom_width=OptionsInfo(scss=True, category='source_notes', type='px', value='2px'), source_notes_border_bottom_color=OptionsInfo(scss=True, category='source_notes', type='value', value='#D3D3D3'), source_notes_border_lr_style=OptionsInfo(scss=True, category='source_notes', type='value', value='none'), source_notes_border_lr_width=OptionsInfo(scss=True, category='source_notes', type='px', value='2px'), source_notes_border_lr_color=OptionsInfo(scss=True, category='source_notes', type='value', value='#D3D3D3'), source_notes_multiline=OptionsInfo(scss=False, category='source_notes', type='boolean', value=True), source_notes_sep=OptionsInfo(scss=False, category='source_notes', type='value', value=' '), row_striping_background_color=OptionsInfo(scss=True, category='row', type='value', value='#F4F4F4'), row_striping_include_stub=OptionsInfo(scss=False, category='row', type='boolean', value=False), row_striping_include_table_body=OptionsInfo(scss=False, category='row', type='boolean', value=['True']), container_width=OptionsInfo(scss=False, category='container', type='px', value='auto'), container_height=OptionsInfo(scss=False, category='container', type='px', value='auto'), container_padding_x=OptionsInfo(scss=False, category='container', type='px', value='0px'), container_padding_y=OptionsInfo(scss=False, category='container', type='px', value='10px'), container_overflow_x=OptionsInfo(scss=False, category='container', type='overflow', value='auto'), container_overflow_y=OptionsInfo(scss=False, category='container', type='overflow', value='auto'), quarto_disable_processing=OptionsInfo(scss=False, category='quarto', type='logical', value=False), quarto_use_bootstrap=OptionsInfo(scss=False, category='quarto', type='logical', value=False)), _google_font_imports=GoogleFontImports(imports=frozenset()), _has_built=False)"
      ]
     },
     "execution_count": 22,
     "metadata": {},
     "output_type": "execute_result"
    }
   ],
   "source": [
    "from flowcean.core import evaluate_offline\n",
    "\n",
    "report = evaluate_offline(\n",
    "    models,\n",
    "    environment=evaluation_environment,\n",
    "    metrics=metrics,\n",
    "    inputs=inputs,\n",
    "    outputs=outputs,\n",
    ")\n",
    "report.great_table()"
   ]
  },
  {
   "cell_type": "markdown",
   "id": "2e674663",
   "metadata": {},
   "source": [
    "###  Task 4.3 Select a Model and Visualization  "
   ]
  },
  {
   "cell_type": "code",
   "execution_count": 23,
   "id": "c18cea52",
   "metadata": {},
   "outputs": [
    {
     "name": "stdout",
     "output_type": "stream",
     "text": [
      "Best model: XGBoostRegressorModel\n"
     ]
    }
   ],
   "source": [
    "from _helper_functions import plot_predictions_vs_ground_truth\n",
    "\n",
    "best_model = models[3]\n",
    "print(f\"Best model: {best_model.name}\")\n",
    "\n",
    "# Plots are saved under plots/\n",
    "plot_predictions_vs_ground_truth(\n",
    "    environment=evaluation_environment,\n",
    "    input_names=inputs,\n",
    "    output_names=outputs,\n",
    "    models=models,\n",
    ")\n",
    "\n",
    "# save model to disk\n",
    "best_model.save(\"model.fml\")"
   ]
  }
 ],
 "metadata": {
  "kernelspec": {
   "display_name": "ipin-2025-workshop (3.10.12)",
   "language": "python",
   "name": "python3"
  },
  "language_info": {
   "codemirror_mode": {
    "name": "ipython",
    "version": 3
   },
   "file_extension": ".py",
   "mimetype": "text/x-python",
   "name": "python",
   "nbconvert_exporter": "python",
   "pygments_lexer": "ipython3",
   "version": "3.10.12"
  }
 },
 "nbformat": 4,
 "nbformat_minor": 5
}
