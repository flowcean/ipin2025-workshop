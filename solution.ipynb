{
 "cells": [
  {
   "cell_type": "code",
   "execution_count": null,
   "id": "39c11ad8",
   "metadata": {},
   "outputs": [],
   "source": [
    "# @markdown <center><img src=\"https://raw.githubusercontent.com/flowcean/flowcean/d5a716008071e5d1174b4851e59695a6170b8ca3/docs/assets/logo_text_blue.svg\" height=\"150\" /></center>\n",
    "# @markdown <center><h1>IPIN 2025 - Flowcean Hands-On Session</h1></center>\n",
    "# @markdown <center>Run this cell to install and setup</center>\n",
    "! pip install --quiet flowcean==0.7.0b2\n",
    "\n",
    "! [ -d \"ipin2025-workshop\" ] || git clone --quiet https://github.com/flowcean/ipin2025-workshop.git\n",
    "import os\n",
    "os.chdir(\"ipin2025-workshop\")"
   ]
  },
  {
   "cell_type": "markdown",
   "id": "e03844bf",
   "metadata": {},
   "source": [
    "## Section 1 : Load and Prepare the Training Data"
   ]
  },
  {
   "cell_type": "code",
   "execution_count": null,
   "id": "3e7a75a6",
   "metadata": {},
   "outputs": [],
   "source": [
    "import flowcean.cli\n",
    "\n",
    "config = flowcean.cli.initialize()"
   ]
  },
  {
   "cell_type": "markdown",
   "id": "842384e0",
   "metadata": {},
   "source": [
    "\n",
    "### Task 1.1 Load Rosbags and Choose Inputs"
   ]
  },
  {
   "cell_type": "code",
   "execution_count": null,
   "id": "62ea77fb",
   "metadata": {
    "tags": [
     "hide-cell"
    ]
   },
   "outputs": [],
   "source": [
    "from flowcean.polars import DataFrame\n",
    "\n",
    "topics = {\n",
    "    \"/turtle1/cmd_vel\": [\"linear.x\", \"angular.z\"],\n",
    "    \"/turtle1/pose\": [\"x\", \"y\", \"theta\"],\n",
    "}\n",
    "# show current data structure without transforms\n",
    "rosbag_train = DataFrame.from_rosbag(config.rosbag.training_path, topics=topics)\n",
    "print(rosbag_train.observe().collect())"
   ]
  },
  {
   "cell_type": "markdown",
   "id": "e07f8a7e",
   "metadata": {},
   "source": [
    "### Task 1.2 Create Training Data Frame"
   ]
  },
  {
   "cell_type": "code",
   "execution_count": null,
   "id": "2ad11fe9",
   "metadata": {},
   "outputs": [],
   "source": [
    "from _helper_functions import ShiftInTime\n",
    "from flowcean.polars import DataFrame, ExplodeTimeSeries, ZeroOrderHold\n",
    "\n",
    "transforms = (\n",
    "    ZeroOrderHold(\n",
    "        features=[\n",
    "            \"/turtle1/cmd_vel\",\n",
    "            \"/turtle1/pose\",\n",
    "        ],\n",
    "        name=\"measurements\",\n",
    "    )\n",
    "    | ExplodeTimeSeries(\"measurements\")\n",
    "    | ShiftInTime(\n",
    "        features=[\"/turtle1/pose/x\", \"/turtle1/pose/y\", \"/turtle1/pose/theta\"],\n",
    "        steps=1,\n",
    "        suffix=\"_next\",\n",
    "    )\n",
    ")\n",
    "\n",
    "training_environment = (\n",
    "    DataFrame.from_rosbag(config.rosbag.training_path, topics=topics) | transforms\n",
    ")\n",
    "evaluation_environment = (\n",
    "    DataFrame.from_rosbag(config.rosbag.evaluation_path, topics=topics) | transforms\n",
    ")\n",
    "print(training_environment.observe().collect())"
   ]
  },
  {
   "cell_type": "markdown",
   "id": "53475c82",
   "metadata": {},
   "source": [
    "## Section 2 : Select Learners across Libraries "
   ]
  },
  {
   "cell_type": "code",
   "execution_count": null,
   "id": "f796dd04",
   "metadata": {},
   "outputs": [],
   "source": [
    "inputs = [\n",
    "    \"/turtle1/pose/x\",\n",
    "    \"/turtle1/pose/y\",\n",
    "    \"/turtle1/pose/theta\",\n",
    "    \"/turtle1/cmd_vel/linear.x\",\n",
    "    \"/turtle1/cmd_vel/angular.z\",\n",
    "]\n",
    "outputs = [\n",
    "    \"/turtle1/pose/x_next\",\n",
    "    \"/turtle1/pose/y_next\",\n",
    "    \"/turtle1/pose/theta_next\",\n",
    "]"
   ]
  },
  {
   "cell_type": "markdown",
   "id": "334c2595",
   "metadata": {},
   "source": [
    "### Task 2.1 Learner configuration"
   ]
  },
  {
   "cell_type": "code",
   "execution_count": null,
   "id": "89c18a95",
   "metadata": {},
   "outputs": [],
   "source": [
    "from flowcean.sklearn import RandomForestRegressorLearner, RegressionTree\n",
    "from flowcean.torch import LightningLearner, MultilayerPerceptron\n",
    "from flowcean.xgboost import XGBoostRegressorLearner\n",
    "\n",
    "regression_tree = RegressionTree(max_leaf_nodes=config.training.tree.max_leaf_nodes)\n",
    "\n",
    "random_forest = RandomForestRegressorLearner(\n",
    "    n_estimators=config.training.forest.n_estimators,\n",
    "    max_depth=config.training.forest.max_depth,\n",
    ")\n",
    "\n",
    "mlp = LightningLearner(\n",
    "    module=MultilayerPerceptron(\n",
    "        learning_rate=config.training.mlp.learning_rate,\n",
    "        output_size=len(outputs),\n",
    "    ),\n",
    "    batch_size=config.training.mlp.batch_size,\n",
    "    max_epochs=config.training.mlp.max_epochs,\n",
    "    accelerator=\"cpu\",\n",
    ")\n",
    "\n",
    "xgb = XGBoostRegressorLearner()"
   ]
  },
  {
   "cell_type": "markdown",
   "id": "ce57354b",
   "metadata": {},
   "source": [
    "### Task 2.2 Prepare Sequential Learning"
   ]
  },
  {
   "cell_type": "code",
   "execution_count": null,
   "id": "9c6639e8",
   "metadata": {},
   "outputs": [],
   "source": [
    "learners = [\n",
    "    regression_tree,\n",
    "    random_forest,\n",
    "    mlp,\n",
    "    xgb,\n",
    "]"
   ]
  },
  {
   "cell_type": "markdown",
   "id": "82cf79f6",
   "metadata": {},
   "source": [
    "## Section 3: Training of the Models"
   ]
  },
  {
   "cell_type": "markdown",
   "id": "fe91dd18",
   "metadata": {},
   "source": [
    "### Task 3.1 Create a Sequential Learning Loop"
   ]
  },
  {
   "cell_type": "code",
   "execution_count": null,
   "id": "8fe0ed37",
   "metadata": {},
   "outputs": [],
   "source": [
    "from flowcean.core import learn_offline\n",
    "\n",
    "models = []\n",
    "for learner in learners:\n",
    "    print(f\"Training model: {learner.name}\")\n",
    "    model = learn_offline(\n",
    "        training_environment,\n",
    "        learner,\n",
    "        inputs=inputs,\n",
    "        outputs=outputs,\n",
    "    )\n",
    "    models.append(model)\n"
   ]
  },
  {
   "cell_type": "markdown",
   "id": "5594a375",
   "metadata": {},
   "source": [
    "## Section 4 : Evaluation and Model Comparison"
   ]
  },
  {
   "cell_type": "markdown",
   "id": "35e812e4",
   "metadata": {},
   "source": [
    "### Task 4.1 Chose Metrics for Evaluation"
   ]
  },
  {
   "cell_type": "code",
   "execution_count": null,
   "id": "07980f90",
   "metadata": {},
   "outputs": [],
   "source": [
    "from euclidean_distance import MeanEuclideanDistance\n",
    "from flowcean.sklearn import MeanAbsoluteError, MeanSquaredError, R2Score\n",
    "\n",
    "metrics = [\n",
    "    MeanAbsoluteError(),\n",
    "    MeanSquaredError(),\n",
    "    R2Score(),\n",
    "    MeanEuclideanDistance(\n",
    "        features=[\"/turtle1/pose/x_next\", \"/turtle1/pose/y_next\"],\n",
    "    ),\n",
    "]"
   ]
  },
  {
   "cell_type": "markdown",
   "id": "de636b99",
   "metadata": {},
   "source": [
    "### Task 4.2 Create an Evaluation Loop"
   ]
  },
  {
   "cell_type": "code",
   "execution_count": null,
   "id": "22e2f7eb",
   "metadata": {},
   "outputs": [],
   "source": [
    "from flowcean.core import evaluate_offline\n",
    "\n",
    "report = evaluate_offline(\n",
    "    models,\n",
    "    environment=evaluation_environment,\n",
    "    metrics=metrics,\n",
    "    inputs=inputs,\n",
    "    outputs=outputs,\n",
    ")\n",
    "report.great_table()"
   ]
  },
  {
   "cell_type": "markdown",
   "id": "2e674663",
   "metadata": {},
   "source": [
    "###  Task 4.3 Select a Model and Visualization  "
   ]
  },
  {
   "cell_type": "code",
   "execution_count": null,
   "id": "c18cea52",
   "metadata": {},
   "outputs": [],
   "source": [
    "from _helper_functions import plot_predictions_vs_ground_truth\n",
    "\n",
    "best_model = models[3]\n",
    "print(f\"Best model: {best_model.name}\")\n",
    "\n",
    "# Plots are saved under plots/\n",
    "plot_predictions_vs_ground_truth(\n",
    "    environment=evaluation_environment,\n",
    "    input_names=inputs,\n",
    "    output_names=outputs,\n",
    "    models=models,\n",
    ")\n",
    "\n",
    "# save model to disk\n",
    "best_model.save(\"model.fml\")"
   ]
  }
 ],
 "metadata": {
  "kernelspec": {
   "display_name": "ipin-2025-workshop (3.10.12)",
   "language": "python",
   "name": "python3"
  },
  "language_info": {
   "codemirror_mode": {
    "name": "ipython",
    "version": 3
   },
   "file_extension": ".py",
   "mimetype": "text/x-python",
   "name": "python",
   "nbconvert_exporter": "python",
   "pygments_lexer": "ipython3",
   "version": "3.10.12"
  }
 },
 "nbformat": 4,
 "nbformat_minor": 5
}
