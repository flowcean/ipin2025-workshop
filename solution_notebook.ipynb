{
 "cells": [
  {
   "cell_type": "markdown",
   "id": "895f3c55",
   "metadata": {},
   "source": [
    "# IPIN 2025 Flowcean Hands-on Session Solution\n",
    "\n"
   ]
  },
  {
   "cell_type": "code",
   "execution_count": 3,
   "id": "919276d9",
   "metadata": {},
   "outputs": [],
   "source": [
    "# some imports we will need\n",
    "import logging\n",
    "\n",
    "logger = logging.getLogger(__name__)"
   ]
  },
  {
   "cell_type": "markdown",
   "id": "e03844bf",
   "metadata": {},
   "source": [
    "## Section 1 : Load and Prepare the Training Data"
   ]
  },
  {
   "cell_type": "code",
   "execution_count": 4,
   "id": "3e7a75a6",
   "metadata": {},
   "outputs": [],
   "source": [
    "# Import flowcean and cli\n",
    "import flowcean\n",
    "import flowcean.cli\n",
    "\n",
    "# Import some helper functions for loading ROS data\n",
    "from os import PathLike\n",
    "\n",
    "from _collections_abc import Iterable\n",
    "from flowcean.core.transform import Lambda\n",
    "\n",
    "# import transforms\n",
    "from flowcean.polars import DataFrame, ExplodeTimeSeries, ZeroOrderHold\n",
    "from flowcean.ros import load_rosbag\n",
    "\n",
    "from _helper_functions import shift_in_time\n",
    "\n",
    "# The function below looks for a config.yaml in the current directory\n",
    "# In the config.yaml, we specify settings for our training run \n",
    "config = flowcean.cli.initialize()"
   ]
  },
  {
   "cell_type": "markdown",
   "id": "842384e0",
   "metadata": {},
   "source": [
    "\n",
    "### Task 1.1 Load Rosbags and Choose Inputs\n",
    "                    "
   ]
  },
  {
   "cell_type": "code",
   "execution_count": 5,
   "id": "62ea77fb",
   "metadata": {
    "tags": [
     "hide-cell"
    ]
   },
   "outputs": [
    {
     "name": "stderr",
     "output_type": "stream",
     "text": [
      "2025-09-09 08:22:10,366 [__main__][INFO] Loading rosbag from: recordings/turtle_training\n",
      "2025-09-09 08:22:10,367 [flowcean.ros.rosbag][INFO] Loading data from cache...\n",
      "2025-09-09 08:22:10,367 [__main__][INFO] Loading rosbag from: recordings/turtle_evaluation\n",
      "2025-09-09 08:22:10,368 [flowcean.ros.rosbag][INFO] Loading data from cache...\n"
     ]
    }
   ],
   "source": [
    "\n",
    "# Configure the load_rosbag() function below\n",
    "def load_and_process_rosbag(\n",
    "    path: str | PathLike,\n",
    "    message_paths: Iterable[str | PathLike] | None = None,\n",
    ") -> DataFrame:\n",
    "    logger.info(\"Loading rosbag from: %s\", path)\n",
    "\n",
    "    rosbag = load_rosbag(\n",
    "        # TODO: TASK 1.1\n",
    "                path=path,\n",
    "        topics={\n",
    "            \"/turtle1/cmd_vel\": [\n",
    "                \"linear.x\",\n",
    "                \"angular.z\",\n",
    "            ],\n",
    "            \"/turtle1/pose\": [\n",
    "                \"x\",\n",
    "                \"y\",\n",
    "                \"theta\",\n",
    "            ],\n",
    "        },\n",
    "        message_paths=message_paths,\n",
    "    )\n",
    "    return (\n",
    "        DataFrame(rosbag)\n",
    "        | ZeroOrderHold(\n",
    "            features=[\n",
    "                \"/turtle1/cmd_vel\",\n",
    "                \"/turtle1/pose\",\n",
    "            ],\n",
    "            name=\"measurements\",\n",
    "        )\n",
    "        | ExplodeTimeSeries(\"measurements\")\n",
    "        | Lambda(shift_in_time)\n",
    "    )\n",
    "\n",
    "# using our loaded config we want to create training and evaluation samples\n",
    "samples_train = load_and_process_rosbag(\n",
    "    config.rosbag.training_path,\n",
    "    config.rosbag.message_paths,\n",
    ")\n",
    "samples_eval = load_and_process_rosbag(\n",
    "    config.rosbag.evaluation_path,\n",
    "    config.rosbag.message_paths,\n",
    ")"
   ]
  },
  {
   "cell_type": "markdown",
   "id": "e07f8a7e",
   "metadata": {},
   "source": [
    "\n",
    "### Task 1.2 Create Training Data Frame\n"
   ]
  },
  {
   "cell_type": "code",
   "execution_count": 6,
   "id": "0115e205",
   "metadata": {},
   "outputs": [
    {
     "name": "stderr",
     "output_type": "stream",
     "text": [
      "2025-09-09 08:22:10,374 [__main__][INFO] Loading rosbag from: recordings/turtle_training\n",
      "2025-09-09 08:22:10,374 [flowcean.ros.rosbag][INFO] Loading data from cache...\n",
      "2025-09-09 08:22:10,375 [__main__][INFO] Loading rosbag from: recordings/turtle_evaluation\n",
      "2025-09-09 08:22:10,375 [flowcean.ros.rosbag][INFO] Loading data from cache...\n"
     ]
    }
   ],
   "source": [
    "# Modify the return statement below to include the necessary transforms\n",
    "def load_and_process_rosbag(\n",
    "        path: str | PathLike,\n",
    "        message_paths: Iterable[str | PathLike] | None = None,\n",
    "    ) -> DataFrame:\n",
    "    logger.info(\"Loading rosbag from: %s\", path)\n",
    "\n",
    "    rosbag = load_rosbag(\n",
    "        path=path,\n",
    "        message_paths=message_paths,\n",
    "        topics={\n",
    "            \"/turtle1/cmd_vel\": [\n",
    "                \"linear.x\",\n",
    "                \"angular.z\",\n",
    "            ],\n",
    "            \"/turtle1/pose\": [\n",
    "                \"x\",\n",
    "                \"y\",\n",
    "                \"theta\",\n",
    "            ],\n",
    "        },\n",
    "    )\n",
    "    return (\n",
    "        DataFrame(rosbag)\n",
    "        | ZeroOrderHold(\n",
    "            features=[\n",
    "                \"/turtle1/cmd_vel\",\n",
    "                \"/turtle1/pose\",\n",
    "            ],\n",
    "            name=\"measurements\",\n",
    "        )\n",
    "        | ExplodeTimeSeries(\"measurements\")\n",
    "        | Lambda(shift_in_time)\n",
    "    )\n",
    "\n",
    "\n",
    "# using our loaded config we want to create training and evaluation samples\n",
    "samples_train = load_and_process_rosbag(\n",
    "    config.rosbag.training_path,\n",
    "    config.rosbag.message_paths,\n",
    ")\n",
    "samples_eval = load_and_process_rosbag(\n",
    "    config.rosbag.evaluation_path,\n",
    "    config.rosbag.message_paths,\n",
    ")"
   ]
  },
  {
   "cell_type": "markdown",
   "id": "53475c82",
   "metadata": {},
   "source": [
    "## Section 2 : Select Learners across Libraries \n"
   ]
  },
  {
   "cell_type": "code",
   "execution_count": 7,
   "id": "f796dd04",
   "metadata": {},
   "outputs": [],
   "source": [
    "# we load all the learners for our training loop\n",
    "from flowcean.sklearn import RandomForestRegressorLearner, RegressionTree\n",
    "from flowcean.torch import LightningLearner, MultilayerPerceptron\n",
    "from flowcean.xgboost import XGBoostRegressorLearner\n",
    "\n",
    "inputs = [\n",
    "        \"/turtle1/pose/x\",\n",
    "        \"/turtle1/pose/y\",\n",
    "        \"/turtle1/pose/theta\",\n",
    "        \"/turtle1/cmd_vel/linear.x\",\n",
    "        \"/turtle1/cmd_vel/angular.z\",\n",
    "]\n",
    "outputs = [\n",
    "        \"/turtle1/pose/x_next\",\n",
    "        \"/turtle1/pose/y_next\",\n",
    "        \"/turtle1/pose/theta_next\",\n",
    "]"
   ]
  },
  {
   "cell_type": "markdown",
   "id": "334c2595",
   "metadata": {},
   "source": [
    "\n",
    "### Task 2.1 Learner configuration\n"
   ]
  },
  {
   "cell_type": "code",
   "execution_count": 8,
   "id": "89c18a95",
   "metadata": {},
   "outputs": [],
   "source": [
    "# create and configure the learners below\n",
    "regression_tree = RegressionTree(**config.training.tree)\n",
    "random_forest = RandomForestRegressorLearner(\n",
    "    **config.training.forest,\n",
    ")\n",
    "mlp = LightningLearner(\n",
    "    module=MultilayerPerceptron(\n",
    "        learning_rate=config.training.mlp.learning_rate,\n",
    "        input_size=len(inputs),\n",
    "        output_size=len(outputs),\n",
    "    ),\n",
    "    batch_size=config.training.mlp.batch_size,\n",
    "    max_epochs=config.training.mlp.max_epochs,\n",
    ")\n",
    "xgb = XGBoostRegressorLearner()"
   ]
  },
  {
   "cell_type": "markdown",
   "id": "ce57354b",
   "metadata": {},
   "source": [
    "### Task 2.2 Prepare Sequential Learning"
   ]
  },
  {
   "cell_type": "code",
   "execution_count": 9,
   "id": "9c6639e8",
   "metadata": {},
   "outputs": [],
   "source": [
    "learners = [\n",
    "    regression_tree,\n",
    "    random_forest,\n",
    "    mlp,\n",
    "    xgb,\n",
    "]"
   ]
  },
  {
   "cell_type": "markdown",
   "id": "88a204f6",
   "metadata": {},
   "source": [
    "<details>\n",
    "  <summary>💡 Click to see the solution</summary>\n",
    "\n",
    "```python\n",
    "learners = [\n",
    "    regression_tree,\n",
    "    random_forest,\n",
    "    mlp,\n",
    "    xgb,\n",
    "]\n",
    "```\n",
    "\n",
    "</details>"
   ]
  },
  {
   "cell_type": "markdown",
   "id": "82cf79f6",
   "metadata": {},
   "source": [
    "## Section 3: Training of the Models\n"
   ]
  },
  {
   "cell_type": "code",
   "execution_count": 10,
   "id": "6e2d91c3",
   "metadata": {},
   "outputs": [],
   "source": [
    "# we load our learning strategy\n",
    "from flowcean.core import learn_offline"
   ]
  },
  {
   "cell_type": "markdown",
   "id": "fe91dd18",
   "metadata": {},
   "source": [
    "\n",
    "\n",
    "### Task 3.1 Create a Sequential Learning Loop\n"
   ]
  },
  {
   "cell_type": "code",
   "execution_count": 11,
   "id": "8fe0ed37",
   "metadata": {},
   "outputs": [
    {
     "name": "stderr",
     "output_type": "stream",
     "text": [
      "2025-09-09 08:22:12,033 [__main__][INFO] Training model: RegressionTree\n",
      "2025-09-09 08:22:12,033 [flowcean.core.strategies.offline][INFO] Learning with offline strategy\n",
      "2025-09-09 08:22:12,037 [flowcean.core.strategies.offline][INFO] Selecting input and output features\n",
      "2025-09-09 08:22:12,037 [flowcean.core.strategies.offline][INFO] Fitting transforms and applying them to features\n",
      "2025-09-09 08:22:12,038 [flowcean.core.strategies.offline][INFO] Fitting output transform and applying it to output features\n",
      "2025-09-09 08:22:12,038 [flowcean.core.strategies.offline][INFO] Learning model\n",
      "2025-09-09 08:22:12,089 [__main__][INFO] Training model: RandomForestRegressorLearner\n",
      "2025-09-09 08:22:12,090 [flowcean.core.strategies.offline][INFO] Learning with offline strategy\n",
      "2025-09-09 08:22:12,091 [flowcean.core.strategies.offline][INFO] Selecting input and output features\n",
      "2025-09-09 08:22:12,092 [flowcean.core.strategies.offline][INFO] Fitting transforms and applying them to features\n",
      "2025-09-09 08:22:12,092 [flowcean.core.strategies.offline][INFO] Fitting output transform and applying it to output features\n",
      "2025-09-09 08:22:12,092 [flowcean.core.strategies.offline][INFO] Learning model\n",
      "2025-09-09 08:22:14,312 [flowcean.sklearn.random_forest][INFO] Using Random Forest Regressor\n",
      "/home/markus/ipin-2025-workshop/.venv/lib/python3.10/site-packages/flowcean/sklearn/random_forest.py:55: PerformanceWarning: Determining the column names of a LazyFrame requires resolving its schema, which is a potentially expensive operation. Use `LazyFrame.collect_schema().names()` to get the column names without this warning.\n",
      "  output_names=outputs.columns,\n",
      "2025-09-09 08:22:14,313 [__main__][INFO] Training model: LightningLearner\n",
      "2025-09-09 08:22:14,313 [flowcean.core.strategies.offline][INFO] Learning with offline strategy\n",
      "2025-09-09 08:22:14,314 [flowcean.core.strategies.offline][INFO] Selecting input and output features\n",
      "2025-09-09 08:22:14,314 [flowcean.core.strategies.offline][INFO] Fitting transforms and applying them to features\n",
      "2025-09-09 08:22:14,314 [flowcean.core.strategies.offline][INFO] Fitting output transform and applying it to output features\n",
      "2025-09-09 08:22:14,315 [flowcean.core.strategies.offline][INFO] Learning model\n",
      "INFO: 💡 Tip: For seamless cloud uploads and versioning, try installing [litmodels](https://pypi.org/project/litmodels/) to enable LitModelCheckpoint, which syncs automatically with the Lightning model registry.\n",
      "2025-09-09 08:22:14,342 [lightning.pytorch.utilities.rank_zero][INFO] 💡 Tip: For seamless cloud uploads and versioning, try installing [litmodels](https://pypi.org/project/litmodels/) to enable LitModelCheckpoint, which syncs automatically with the Lightning model registry.\n",
      "INFO: GPU available: True (cuda), used: True\n",
      "2025-09-09 08:22:14,349 [lightning.pytorch.utilities.rank_zero][INFO] GPU available: True (cuda), used: True\n",
      "INFO: TPU available: False, using: 0 TPU cores\n",
      "2025-09-09 08:22:14,350 [lightning.pytorch.utilities.rank_zero][INFO] TPU available: False, using: 0 TPU cores\n",
      "INFO: HPU available: False, using: 0 HPUs\n",
      "2025-09-09 08:22:14,350 [lightning.pytorch.utilities.rank_zero][INFO] HPU available: False, using: 0 HPUs\n",
      "/home/markus/ipin-2025-workshop/.venv/lib/python3.10/site-packages/lightning/pytorch/trainer/connectors/logger_connector/logger_connector.py:76: Starting from v1.9.0, `tensorboardX` has been removed as a dependency of the `lightning.pytorch` package, due to potential conflicts with other packages in the ML ecosystem. For this reason, `logger=True` will use `CSVLogger` as the default logger, unless the `tensorboard` or `tensorboardX` packages are found. Please `pip install lightning[extra]` or one of them to enable TensorBoard support by default\n",
      "INFO: You are using a CUDA device ('NVIDIA GeForce RTX 3070 Laptop GPU') that has Tensor Cores. To properly utilize them, you should set `torch.set_float32_matmul_precision('medium' | 'high')` which will trade-off precision for performance. For more details, read https://pytorch.org/docs/stable/generated/torch.set_float32_matmul_precision.html#torch.set_float32_matmul_precision\n",
      "2025-09-09 08:22:14,397 [lightning.pytorch.utilities.rank_zero][INFO] You are using a CUDA device ('NVIDIA GeForce RTX 3070 Laptop GPU') that has Tensor Cores. To properly utilize them, you should set `torch.set_float32_matmul_precision('medium' | 'high')` which will trade-off precision for performance. For more details, read https://pytorch.org/docs/stable/generated/torch.set_float32_matmul_precision.html#torch.set_float32_matmul_precision\n",
      "INFO: LOCAL_RANK: 0 - CUDA_VISIBLE_DEVICES: [0]\n",
      "2025-09-09 08:22:14,518 [lightning.pytorch.accelerators.cuda][INFO] LOCAL_RANK: 0 - CUDA_VISIBLE_DEVICES: [0]\n",
      "INFO: \n",
      "  | Name  | Type       | Params | Mode \n",
      "---------------------------------------------\n",
      "0 | model | Sequential | 18     | train\n",
      "---------------------------------------------\n",
      "18        Trainable params\n",
      "0         Non-trainable params\n",
      "18        Total params\n",
      "0.000     Total estimated model params size (MB)\n",
      "2         Modules in train mode\n",
      "0         Modules in eval mode\n",
      "2025-09-09 08:22:14,520 [lightning.pytorch.callbacks.model_summary][INFO] \n",
      "  | Name  | Type       | Params | Mode \n",
      "---------------------------------------------\n",
      "0 | model | Sequential | 18     | train\n",
      "---------------------------------------------\n",
      "18        Trainable params\n",
      "0         Non-trainable params\n",
      "18        Total params\n",
      "0.000     Total estimated model params size (MB)\n",
      "2         Modules in train mode\n",
      "0         Modules in eval mode\n"
     ]
    },
    {
     "name": "stdout",
     "output_type": "stream",
     "text": [
      "Epoch 1: 100%|██████████| 379/379 [00:01<00:00, 280.64it/s, v_num=0, train_loss=3.320] "
     ]
    },
    {
     "name": "stderr",
     "output_type": "stream",
     "text": [
      "INFO: `Trainer.fit` stopped: `max_epochs=2` reached.\n",
      "2025-09-09 08:22:17,310 [lightning.pytorch.utilities.rank_zero][INFO] `Trainer.fit` stopped: `max_epochs=2` reached.\n"
     ]
    },
    {
     "name": "stdout",
     "output_type": "stream",
     "text": [
      "Epoch 1: 100%|██████████| 379/379 [00:01<00:00, 279.77it/s, v_num=0, train_loss=3.320]\n"
     ]
    },
    {
     "name": "stderr",
     "output_type": "stream",
     "text": [
      "2025-09-09 08:22:17,346 [__main__][INFO] Training model: XGBoostRegressorLearner\n",
      "2025-09-09 08:22:17,347 [flowcean.core.strategies.offline][INFO] Learning with offline strategy\n",
      "2025-09-09 08:22:17,348 [flowcean.core.strategies.offline][INFO] Selecting input and output features\n",
      "2025-09-09 08:22:17,349 [flowcean.core.strategies.offline][INFO] Fitting transforms and applying them to features\n",
      "2025-09-09 08:22:17,349 [flowcean.core.strategies.offline][INFO] Fitting output transform and applying it to output features\n",
      "2025-09-09 08:22:17,349 [flowcean.core.strategies.offline][INFO] Learning model\n"
     ]
    }
   ],
   "source": [
    "models = []\n",
    "for learner in learners:\n",
    "    logger.info(\"Training model: %s\", learner.name)\n",
    "    model = None  # TODO: Task 3.1\n",
    "    model = learn_offline(\n",
    "        samples_train,\n",
    "        learner,\n",
    "        inputs=inputs,\n",
    "        outputs=outputs,\n",
    "    )\n",
    "    models.append(model) # TODO: Task 3.1"
   ]
  },
  {
   "cell_type": "markdown",
   "id": "5594a375",
   "metadata": {},
   "source": [
    "## Section 4 : Evaluation and Model Comparison\n"
   ]
  },
  {
   "cell_type": "code",
   "execution_count": 12,
   "id": "834e231d",
   "metadata": {},
   "outputs": [],
   "source": [
    "# we load our metrics for comparison\n",
    "from flowcean.sklearn import MeanAbsoluteError, MeanSquaredError, R2Score\n",
    "from custom_metrics.euclidean_distance import MeanEuclideanDistance\n",
    "\n",
    "# import function for model comparison\n",
    "from flowcean.core import evaluate_offline"
   ]
  },
  {
   "cell_type": "markdown",
   "id": "35e812e4",
   "metadata": {},
   "source": [
    "### Task 4.1 Chose Metrics for Evaluation\n",
    "\n"
   ]
  },
  {
   "cell_type": "code",
   "execution_count": 13,
   "id": "07980f90",
   "metadata": {},
   "outputs": [],
   "source": [
    "metrics = [\n",
    "    MeanAbsoluteError(),\n",
    "    MeanSquaredError(),\n",
    "    R2Score(),\n",
    "    MeanEuclideanDistance(\n",
    "        columns=[\n",
    "            \"/turtle1/pose/x_next\",\n",
    "            \"/turtle1/pose/y_next\",\n",
    "        ],\n",
    "    ),\n",
    "]"
   ]
  },
  {
   "cell_type": "markdown",
   "id": "de636b99",
   "metadata": {},
   "source": [
    "### Task 4.2 Create an Evaluation Loop\n"
   ]
  },
  {
   "cell_type": "code",
   "execution_count": 14,
   "id": "22e2f7eb",
   "metadata": {},
   "outputs": [
    {
     "name": "stderr",
     "output_type": "stream",
     "text": [
      "2025-09-09 08:22:17,507 [custom_metrics.euclidean_distance][INFO] Computed EuclideanDistance over columns ['/turtle1/pose/x_next', '/turtle1/pose/y_next']: 0.724503\n",
      "2025-09-09 08:22:17,560 [custom_metrics.euclidean_distance][INFO] Computed EuclideanDistance over columns ['/turtle1/pose/x_next', '/turtle1/pose/y_next']: 0.520264\n",
      "2025-09-09 08:22:17,751 [custom_metrics.euclidean_distance][INFO] Computed EuclideanDistance over columns ['/turtle1/pose/x_next', '/turtle1/pose/y_next']: 2.220751\n",
      "2025-09-09 08:22:17,784 [custom_metrics.euclidean_distance][INFO] Computed EuclideanDistance over columns ['/turtle1/pose/x_next', '/turtle1/pose/y_next']: 0.028081\n"
     ]
    },
    {
     "data": {
      "text/html": [
       "<div id=\"sjgrsgwsfz\" style=\"padding-left:0px;padding-right:0px;padding-top:10px;padding-bottom:10px;overflow-x:auto;overflow-y:auto;width:auto;height:auto;\">\n",
       "<style>\n",
       "#sjgrsgwsfz table {\n",
       "          font-family: -apple-system, BlinkMacSystemFont, 'Segoe UI', Roboto, Oxygen, Ubuntu, Cantarell, 'Helvetica Neue', 'Fira Sans', 'Droid Sans', Arial, sans-serif;\n",
       "          -webkit-font-smoothing: antialiased;\n",
       "          -moz-osx-font-smoothing: grayscale;\n",
       "        }\n",
       "\n",
       "#sjgrsgwsfz thead, tbody, tfoot, tr, td, th { border-style: none !important; }\n",
       " tr { background-color: transparent !important; }\n",
       "#sjgrsgwsfz p { margin: 0 !important; padding: 0 !important; }\n",
       " #sjgrsgwsfz .gt_table { display: table !important; border-collapse: collapse !important; line-height: normal !important; margin-left: auto !important; margin-right: auto !important; color: #333333 !important; font-size: 16px !important; font-weight: normal !important; font-style: normal !important; background-color: #FFFFFF !important; width: auto !important; border-top-style: solid !important; border-top-width: 2px !important; border-top-color: #929292 !important; border-right-style: none !important; border-right-width: 2px !important; border-right-color: #D3D3D3 !important; border-bottom-style: solid !important; border-bottom-width: 2px !important; border-bottom-color: #929292 !important; border-left-style: none !important; border-left-width: 2px !important; border-left-color: #D3D3D3 !important; }\n",
       " #sjgrsgwsfz .gt_caption { padding-top: 4px !important; padding-bottom: 4px !important; }\n",
       " #sjgrsgwsfz .gt_title { color: #333333 !important; font-size: 125% !important; font-weight: initial !important; padding-top: 4px !important; padding-bottom: 4px !important; padding-left: 5px !important; padding-right: 5px !important; border-bottom-color: #FFFFFF !important; border-bottom-width: 0 !important; }\n",
       " #sjgrsgwsfz .gt_subtitle { color: #333333 !important; font-size: 85% !important; font-weight: initial !important; padding-top: 3px !important; padding-bottom: 5px !important; padding-left: 5px !important; padding-right: 5px !important; border-top-color: #FFFFFF !important; border-top-width: 0 !important; }\n",
       " #sjgrsgwsfz .gt_heading { background-color: #FFFFFF !important; text-align: center !important; border-bottom-color: #FFFFFF !important; border-left-style: none !important; border-left-width: 1px !important; border-left-color: #D3D3D3 !important; border-right-style: none !important; border-right-width: 1px !important; border-right-color: #D3D3D3 !important; }\n",
       " #sjgrsgwsfz .gt_bottom_border { border-bottom-style: solid !important; border-bottom-width: 2px !important; border-bottom-color: #929292 !important; }\n",
       " #sjgrsgwsfz .gt_col_headings { border-top-style: solid !important; border-top-width: 2px !important; border-top-color: #929292 !important; border-bottom-style: solid !important; border-bottom-width: 2px !important; border-bottom-color: #929292 !important; border-left-style: none !important; border-left-width: 1px !important; border-left-color: #D3D3D3 !important; border-right-style: none !important; border-right-width: 1px !important; border-right-color: #D3D3D3 !important; }\n",
       " #sjgrsgwsfz .gt_col_heading { color: #FFFFFF !important; background-color: #004D80 !important; font-size: 100% !important; font-weight: normal !important; text-transform: inherit !important; border-left-style: none !important; border-left-width: 1px !important; border-left-color: #D3D3D3 !important; border-right-style: none !important; border-right-width: 1px !important; border-right-color: #D3D3D3 !important; vertical-align: bottom !important; padding-top: 5px !important; padding-bottom: 5px !important; padding-left: 5px !important; padding-right: 5px !important; overflow-x: hidden !important; }\n",
       " #sjgrsgwsfz .gt_column_spanner_outer { color: #FFFFFF !important; background-color: #004D80 !important; font-size: 100% !important; font-weight: normal !important; text-transform: inherit !important; padding-top: 0 !important; padding-bottom: 0 !important; padding-left: 4px !important; padding-right: 4px !important; }\n",
       " #sjgrsgwsfz .gt_column_spanner_outer:first-child { padding-left: 0 !important; }\n",
       " #sjgrsgwsfz .gt_column_spanner_outer:last-child { padding-right: 0 !important; }\n",
       " #sjgrsgwsfz .gt_column_spanner { border-bottom-style: solid !important; border-bottom-width: 2px !important; border-bottom-color: #929292 !important; vertical-align: bottom !important; padding-top: 5px !important; padding-bottom: 5px !important; overflow-x: hidden !important; display: inline-block !important; width: 100% !important; }\n",
       " #sjgrsgwsfz .gt_spanner_row { border-bottom-style: hidden !important; }\n",
       " #sjgrsgwsfz .gt_group_heading { padding-top: 8px !important; padding-bottom: 8px !important; padding-left: 5px !important; padding-right: 5px !important; color: #333333 !important; background-color: #FFFFFF !important; font-size: 100% !important; font-weight: initial !important; text-transform: inherit !important; border-top-style: solid !important; border-top-width: 2px !important; border-top-color: #929292 !important; border-bottom-style: solid !important; border-bottom-width: 2px !important; border-bottom-color: #929292 !important; border-left-style: none !important; border-left-width: 1px !important; border-left-color: #D3D3D3 !important; border-right-style: none !important; border-right-width: 1px !important; border-right-color: #D3D3D3 !important; vertical-align: middle !important; text-align: left !important; }\n",
       " #sjgrsgwsfz .gt_empty_group_heading { padding: 0.5px !important; color: #333333 !important; background-color: #FFFFFF !important; font-size: 100% !important; font-weight: initial !important; border-top-style: solid !important; border-top-width: 2px !important; border-top-color: #929292 !important; border-bottom-style: solid !important; border-bottom-width: 2px !important; border-bottom-color: #929292 !important; vertical-align: middle !important; }\n",
       " #sjgrsgwsfz .gt_from_md> :first-child { margin-top: 0 !important; }\n",
       " #sjgrsgwsfz .gt_from_md> :last-child { margin-bottom: 0 !important; }\n",
       " #sjgrsgwsfz .gt_row { padding-top: 8px !important; padding-bottom: 8px !important; padding-left: 5px !important; padding-right: 5px !important; margin: 10px !important; border-top-style: dashed !important; border-top-width: 1px !important; border-top-color: #929292 !important; border-left-style: none !important; border-left-width: 1px !important; border-left-color: #929292 !important; border-right-style: none !important; border-right-width: 1px !important; border-right-color: #929292 !important; vertical-align: middle !important; overflow-x: hidden !important; }\n",
       " #sjgrsgwsfz .gt_stub { color: #333333 !important; background-color: #D5D5D5 !important; font-size: 100% !important; font-weight: initial !important; text-transform: inherit !important; border-right-style: none !important; border-right-width: 2px !important; border-right-color: #FFFFFF !important; padding-left: 5px !important; padding-right: 5px !important; }\n",
       " #sjgrsgwsfz .gt_stub_row_group { color: #333333 !important; background-color: #FFFFFF !important; font-size: 100% !important; font-weight: initial !important; text-transform: inherit !important; border-right-style: solid !important; border-right-width: 2px !important; border-right-color: #D3D3D3 !important; padding-left: 5px !important; padding-right: 5px !important; vertical-align: top !important; }\n",
       " #sjgrsgwsfz .gt_row_group_first td { border-top-width: 2px !important; }\n",
       " #sjgrsgwsfz .gt_row_group_first th { border-top-width: 2px !important; }\n",
       " #sjgrsgwsfz .gt_striped { background-color: #F4F4F4 !important; }\n",
       " #sjgrsgwsfz .gt_table_body { border-top-style: solid !important; border-top-width: 2px !important; border-top-color: #929292 !important; border-bottom-style: solid !important; border-bottom-width: 2px !important; border-bottom-color: #929292 !important; }\n",
       " #sjgrsgwsfz .gt_sourcenotes { color: #333333 !important; background-color: #FFFFFF !important; border-bottom-style: none !important; border-bottom-width: 2px !important; border-bottom-color: #D3D3D3 !important; border-left-style: none !important; border-left-width: 2px !important; border-left-color: #D3D3D3 !important; border-right-style: none !important; border-right-width: 2px !important; border-right-color: #D3D3D3 !important; }\n",
       " #sjgrsgwsfz .gt_sourcenote { font-size: 90% !important; padding-top: 4px !important; padding-bottom: 4px !important; padding-left: 5px !important; padding-right: 5px !important; text-align: left !important; }\n",
       " #sjgrsgwsfz .gt_left { text-align: left !important; }\n",
       " #sjgrsgwsfz .gt_center { text-align: center !important; }\n",
       " #sjgrsgwsfz .gt_right { text-align: right !important; font-variant-numeric: tabular-nums !important; }\n",
       " #sjgrsgwsfz .gt_font_normal { font-weight: normal !important; }\n",
       " #sjgrsgwsfz .gt_font_bold { font-weight: bold !important; }\n",
       " #sjgrsgwsfz .gt_font_italic { font-style: italic !important; }\n",
       " #sjgrsgwsfz .gt_super { font-size: 65% !important; }\n",
       " #sjgrsgwsfz .gt_footnote_marks { font-size: 75% !important; vertical-align: 0.4em !important; position: initial !important; }\n",
       " #sjgrsgwsfz .gt_asterisk { font-size: 100% !important; vertical-align: 0 !important; }\n",
       " \n",
       "</style>\n",
       "<table class=\"gt_table\" data-quarto-disable-processing=\"false\" data-quarto-bootstrap=\"false\">\n",
       "<thead>\n",
       "\n",
       "  <tr class=\"gt_heading\">\n",
       "    <td colspan=\"11\" class=\"gt_heading gt_title gt_font_normal\">Model Evaluation Report</td>\n",
       "  </tr>\n",
       "  <tr class=\"gt_heading\">\n",
       "    <td colspan=\"11\" class=\"gt_heading gt_subtitle gt_font_normal gt_bottom_border\">Metrics for each trained model</td>\n",
       "  </tr>\n",
       "<tr class=\"gt_col_headings gt_spanner_row\">\n",
       "  <th class=\"gt_col_heading gt_columns_bottom_border gt_left\" rowspan=\"2\" colspan=\"1\" scope=\"col\" id=\"Model\">Model</th>\n",
       "  <th class=\"gt_center gt_columns_top_border gt_column_spanner_outer\" rowspan=\"1\" colspan=\"3\" scope=\"colgroup\" id=\"MeanAbsoluteError\">\n",
       "    <span class=\"gt_column_spanner\">MeanAbsoluteError</span>\n",
       "  </th>\n",
       "  <th class=\"gt_center gt_columns_top_border gt_column_spanner_outer\" rowspan=\"1\" colspan=\"3\" scope=\"colgroup\" id=\"MeanSquaredError\">\n",
       "    <span class=\"gt_column_spanner\">MeanSquaredError</span>\n",
       "  </th>\n",
       "  <th class=\"gt_center gt_columns_top_border gt_column_spanner_outer\" rowspan=\"1\" colspan=\"3\" scope=\"colgroup\" id=\"R2Score\">\n",
       "    <span class=\"gt_column_spanner\">R2Score</span>\n",
       "  </th>\n",
       "  <th class=\"gt_col_heading gt_columns_bottom_border gt_right\" rowspan=\"2\" colspan=\"1\" scope=\"col\" id=\"MeanEuclideanDistance\">MeanEuclideanDistance</th>\n",
       "</tr>\n",
       "<tr class=\"gt_col_headings\">\n",
       "  <th class=\"gt_col_heading gt_columns_bottom_border gt_right\" rowspan=\"1\" colspan=\"1\" scope=\"col\" id=\"MeanAbsoluteError:-/turtle1/pose/x_next\">/turtle1/pose/x_next</th>\n",
       "  <th class=\"gt_col_heading gt_columns_bottom_border gt_right\" rowspan=\"1\" colspan=\"1\" scope=\"col\" id=\"MeanAbsoluteError:-/turtle1/pose/y_next\">/turtle1/pose/y_next</th>\n",
       "  <th class=\"gt_col_heading gt_columns_bottom_border gt_right\" rowspan=\"1\" colspan=\"1\" scope=\"col\" id=\"MeanAbsoluteError:-/turtle1/pose/theta_next\">/turtle1/pose/theta_next</th>\n",
       "  <th class=\"gt_col_heading gt_columns_bottom_border gt_right\" rowspan=\"1\" colspan=\"1\" scope=\"col\" id=\"MeanSquaredError:-/turtle1/pose/x_next\">/turtle1/pose/x_next</th>\n",
       "  <th class=\"gt_col_heading gt_columns_bottom_border gt_right\" rowspan=\"1\" colspan=\"1\" scope=\"col\" id=\"MeanSquaredError:-/turtle1/pose/y_next\">/turtle1/pose/y_next</th>\n",
       "  <th class=\"gt_col_heading gt_columns_bottom_border gt_right\" rowspan=\"1\" colspan=\"1\" scope=\"col\" id=\"MeanSquaredError:-/turtle1/pose/theta_next\">/turtle1/pose/theta_next</th>\n",
       "  <th class=\"gt_col_heading gt_columns_bottom_border gt_right\" rowspan=\"1\" colspan=\"1\" scope=\"col\" id=\"R2Score:-/turtle1/pose/x_next\">/turtle1/pose/x_next</th>\n",
       "  <th class=\"gt_col_heading gt_columns_bottom_border gt_right\" rowspan=\"1\" colspan=\"1\" scope=\"col\" id=\"R2Score:-/turtle1/pose/y_next\">/turtle1/pose/y_next</th>\n",
       "  <th class=\"gt_col_heading gt_columns_bottom_border gt_right\" rowspan=\"1\" colspan=\"1\" scope=\"col\" id=\"R2Score:-/turtle1/pose/theta_next\">/turtle1/pose/theta_next</th>\n",
       "</tr>\n",
       "</thead>\n",
       "<tbody class=\"gt_table_body\">\n",
       "  <tr>\n",
       "    <th class=\"gt_row gt_left gt_stub\">DecisionTreeRegressor</th>\n",
       "    <td class=\"gt_row gt_right\">0.40</td>\n",
       "    <td class=\"gt_row gt_right\">0.48</td>\n",
       "    <td class=\"gt_row gt_right\">0.40</td>\n",
       "    <td class=\"gt_row gt_right\">0.32</td>\n",
       "    <td class=\"gt_row gt_right\">0.52</td>\n",
       "    <td class=\"gt_row gt_right\">0.42</td>\n",
       "    <td class=\"gt_row gt_right\">0.96</td>\n",
       "    <td class=\"gt_row gt_right\">0.94</td>\n",
       "    <td class=\"gt_row gt_right\">0.84</td>\n",
       "    <td class=\"gt_row gt_right\">0.72</td>\n",
       "  </tr>\n",
       "  <tr>\n",
       "    <th class=\"gt_row gt_left gt_stub\">RandomForestRegressor</th>\n",
       "    <td class=\"gt_row gt_right gt_striped\">0.31</td>\n",
       "    <td class=\"gt_row gt_right gt_striped\">0.33</td>\n",
       "    <td class=\"gt_row gt_right gt_striped\">0.37</td>\n",
       "    <td class=\"gt_row gt_right gt_striped\">0.20</td>\n",
       "    <td class=\"gt_row gt_right gt_striped\">0.23</td>\n",
       "    <td class=\"gt_row gt_right gt_striped\">0.31</td>\n",
       "    <td class=\"gt_row gt_right gt_striped\">0.98</td>\n",
       "    <td class=\"gt_row gt_right gt_striped\">0.97</td>\n",
       "    <td class=\"gt_row gt_right gt_striped\">0.88</td>\n",
       "    <td class=\"gt_row gt_right gt_striped\">0.52</td>\n",
       "  </tr>\n",
       "  <tr>\n",
       "    <th class=\"gt_row gt_left gt_stub\">PyTorchModel</th>\n",
       "    <td class=\"gt_row gt_right\">1.52</td>\n",
       "    <td class=\"gt_row gt_right\">1.44</td>\n",
       "    <td class=\"gt_row gt_right\">1.02</td>\n",
       "    <td class=\"gt_row gt_right\">3.52</td>\n",
       "    <td class=\"gt_row gt_right\">2.89</td>\n",
       "    <td class=\"gt_row gt_right\">1.45</td>\n",
       "    <td class=\"gt_row gt_right\">0.57</td>\n",
       "    <td class=\"gt_row gt_right\">0.66</td>\n",
       "    <td class=\"gt_row gt_right\">0.43</td>\n",
       "    <td class=\"gt_row gt_right\">2.22</td>\n",
       "  </tr>\n",
       "  <tr>\n",
       "    <th class=\"gt_row gt_left gt_stub\">XGBoostRegressorModel</th>\n",
       "    <td class=\"gt_row gt_right gt_striped\">0.02</td>\n",
       "    <td class=\"gt_row gt_right gt_striped\">0.02</td>\n",
       "    <td class=\"gt_row gt_right gt_striped\">0.02</td>\n",
       "    <td class=\"gt_row gt_right gt_striped\">0.00</td>\n",
       "    <td class=\"gt_row gt_right gt_striped\">0.00</td>\n",
       "    <td class=\"gt_row gt_right gt_striped\">0.03</td>\n",
       "    <td class=\"gt_row gt_right gt_striped\">1.00</td>\n",
       "    <td class=\"gt_row gt_right gt_striped\">1.00</td>\n",
       "    <td class=\"gt_row gt_right gt_striped\">0.99</td>\n",
       "    <td class=\"gt_row gt_right gt_striped\">0.03</td>\n",
       "  </tr>\n",
       "</tbody>\n",
       "\n",
       "\n",
       "</table>\n",
       "\n",
       "</div>\n",
       "        "
      ],
      "text/plain": [
       "GT(_tbl_data=shape: (4, 11)\n",
       "┌───────────┬───────────┬───────────┬───────────┬───┬───────────┬───────────┬───────────┬──────────┐\n",
       "│ model     ┆ MeanAbsol ┆ MeanAbsol ┆ MeanAbsol ┆ … ┆ R2Score:  ┆ R2Score:  ┆ R2Score:  ┆ MeanEucl │\n",
       "│ ---       ┆ uteError: ┆ uteError: ┆ uteError: ┆   ┆ /turtle1/ ┆ /turtle1/ ┆ /turtle1/ ┆ ideanDis │\n",
       "│ str       ┆ /turtle1/ ┆ /turtle1/ ┆ /turtle1/ ┆   ┆ pose/x_ne ┆ pose/y_ne ┆ pose/thet ┆ tance    │\n",
       "│           ┆ po…       ┆ po…       ┆ po…       ┆   ┆ xt        ┆ xt        ┆ a_n…      ┆ ---      │\n",
       "│           ┆ ---       ┆ ---       ┆ ---       ┆   ┆ ---       ┆ ---       ┆ ---       ┆ f64      │\n",
       "│           ┆ f64       ┆ f64       ┆ f64       ┆   ┆ f64       ┆ f64       ┆ f64       ┆          │\n",
       "╞═══════════╪═══════════╪═══════════╪═══════════╪═══╪═══════════╪═══════════╪═══════════╪══════════╡\n",
       "│ DecisionT ┆ 0.400292  ┆ 0.484429  ┆ 0.404177  ┆ … ┆ 0.961228  ┆ 0.940002  ┆ 0.837956  ┆ 0.724503 │\n",
       "│ reeRegres ┆           ┆           ┆           ┆   ┆           ┆           ┆           ┆          │\n",
       "│ sor       ┆           ┆           ┆           ┆   ┆           ┆           ┆           ┆          │\n",
       "│ RandomFor ┆ 0.313088  ┆ 0.329595  ┆ 0.365531  ┆ … ┆ 0.975824  ┆ 0.973763  ┆ 0.879787  ┆ 0.520264 │\n",
       "│ estRegres ┆           ┆           ┆           ┆   ┆           ┆           ┆           ┆          │\n",
       "│ sor       ┆           ┆           ┆           ┆   ┆           ┆           ┆           ┆          │\n",
       "│ PyTorchMo ┆ 1.518797  ┆ 1.436205  ┆ 1.015199  ┆ … ┆ 0.570466  ┆ 0.664764  ┆ 0.434776  ┆ 2.220751 │\n",
       "│ del       ┆           ┆           ┆           ┆   ┆           ┆           ┆           ┆          │\n",
       "│ XGBoostRe ┆ 0.018843  ┆ 0.016533  ┆ 0.024136  ┆ … ┆ 0.999923  ┆ 0.999949  ┆ 0.990074  ┆ 0.028081 │\n",
       "│ gressorMo ┆           ┆           ┆           ┆   ┆           ┆           ┆           ┆          │\n",
       "│ del       ┆           ┆           ┆           ┆   ┆           ┆           ┆           ┆          │\n",
       "└───────────┴───────────┴───────────┴───────────┴───┴───────────┴───────────┴───────────┴──────────┘, _body=<great_tables._gt_data.Body object at 0x7e1e7799f190>, _boxhead=Boxhead([ColInfo(var='model', type=<ColInfoTypeEnum.stub: 2>, column_label='model', column_align='left', column_width=None), ColInfo(var='MeanAbsoluteError: /turtle1/pose/x_next', type=<ColInfoTypeEnum.default: 1>, column_label='/turtle1/pose/x_next', column_align='right', column_width=None), ColInfo(var='MeanAbsoluteError: /turtle1/pose/y_next', type=<ColInfoTypeEnum.default: 1>, column_label='/turtle1/pose/y_next', column_align='right', column_width=None), ColInfo(var='MeanAbsoluteError: /turtle1/pose/theta_next', type=<ColInfoTypeEnum.default: 1>, column_label='/turtle1/pose/theta_next', column_align='right', column_width=None), ColInfo(var='MeanSquaredError: /turtle1/pose/x_next', type=<ColInfoTypeEnum.default: 1>, column_label='/turtle1/pose/x_next', column_align='right', column_width=None), ColInfo(var='MeanSquaredError: /turtle1/pose/y_next', type=<ColInfoTypeEnum.default: 1>, column_label='/turtle1/pose/y_next', column_align='right', column_width=None), ColInfo(var='MeanSquaredError: /turtle1/pose/theta_next', type=<ColInfoTypeEnum.default: 1>, column_label='/turtle1/pose/theta_next', column_align='right', column_width=None), ColInfo(var='R2Score: /turtle1/pose/x_next', type=<ColInfoTypeEnum.default: 1>, column_label='/turtle1/pose/x_next', column_align='right', column_width=None), ColInfo(var='R2Score: /turtle1/pose/y_next', type=<ColInfoTypeEnum.default: 1>, column_label='/turtle1/pose/y_next', column_align='right', column_width=None), ColInfo(var='R2Score: /turtle1/pose/theta_next', type=<ColInfoTypeEnum.default: 1>, column_label='/turtle1/pose/theta_next', column_align='right', column_width=None), ColInfo(var='MeanEuclideanDistance', type=<ColInfoTypeEnum.default: 1>, column_label='MeanEuclideanDistance', column_align='right', column_width=None)]), _stub=<great_tables._gt_data.Stub object at 0x7e1e7799ec20>, _spanners=Spanners([SpannerInfo(spanner_id='MeanAbsoluteError', spanner_level=0, spanner_label='MeanAbsoluteError', spanner_units=None, spanner_pattern=None, vars=['MeanAbsoluteError: /turtle1/pose/x_next', 'MeanAbsoluteError: /turtle1/pose/y_next', 'MeanAbsoluteError: /turtle1/pose/theta_next'], built=None), SpannerInfo(spanner_id='MeanSquaredError', spanner_level=0, spanner_label='MeanSquaredError', spanner_units=None, spanner_pattern=None, vars=['MeanSquaredError: /turtle1/pose/x_next', 'MeanSquaredError: /turtle1/pose/y_next', 'MeanSquaredError: /turtle1/pose/theta_next'], built=None), SpannerInfo(spanner_id='R2Score', spanner_level=0, spanner_label='R2Score', spanner_units=None, spanner_pattern=None, vars=['R2Score: /turtle1/pose/x_next', 'R2Score: /turtle1/pose/y_next', 'R2Score: /turtle1/pose/theta_next'], built=None)]), _heading=Heading(title='Model Evaluation Report', subtitle='Metrics for each trained model', preheader=None), _stubhead='Model', _source_notes=[], _footnotes=[], _styles=[], _locale=<great_tables._gt_data.Locale object at 0x7e1e7799f460>, _formats=[<great_tables._gt_data.FormatInfo object at 0x7e1e4b195870>], _substitutions=[], _options=Options(table_id=OptionsInfo(scss=False, category='table', type='value', value=None), table_caption=OptionsInfo(scss=False, category='table', type='value', value=None), table_width=OptionsInfo(scss=True, category='table', type='px', value='auto'), table_layout=OptionsInfo(scss=True, category='table', type='value', value='fixed'), table_margin_left=OptionsInfo(scss=True, category='table', type='px', value='auto'), table_margin_right=OptionsInfo(scss=True, category='table', type='px', value='auto'), table_background_color=OptionsInfo(scss=True, category='table', type='value', value='#FFFFFF'), table_additional_css=OptionsInfo(scss=False, category='table', type='values', value=[]), table_font_names=OptionsInfo(scss=False, category='table', type='values', value=['-apple-system', 'BlinkMacSystemFont', 'Segoe UI', 'Roboto', 'Oxygen', 'Ubuntu', 'Cantarell', 'Helvetica Neue', 'Fira Sans', 'Droid Sans', 'Arial', 'sans-serif']), table_font_size=OptionsInfo(scss=True, category='table', type='px', value='16px'), table_font_weight=OptionsInfo(scss=True, category='table', type='value', value='normal'), table_font_style=OptionsInfo(scss=True, category='table', type='value', value='normal'), table_font_color=OptionsInfo(scss=True, category='table', type='value', value='#333333'), table_font_color_light=OptionsInfo(scss=True, category='table', type='value', value='#FFFFFF'), table_border_top_include=OptionsInfo(scss=False, category='table', type='boolean', value=True), table_border_top_style=OptionsInfo(scss=True, category='table', type='value', value='solid'), table_border_top_width=OptionsInfo(scss=True, category='table', type='px', value='2px'), table_border_top_color=OptionsInfo(scss=True, category='table', type='value', value='#929292'), table_border_right_style=OptionsInfo(scss=True, category='table', type='value', value='none'), table_border_right_width=OptionsInfo(scss=True, category='table', type='px', value='2px'), table_border_right_color=OptionsInfo(scss=True, category='table', type='value', value='#D3D3D3'), table_border_bottom_include=OptionsInfo(scss=False, category='table', type='boolean', value=True), table_border_bottom_style=OptionsInfo(scss=True, category='table', type='value', value='solid'), table_border_bottom_width=OptionsInfo(scss=True, category='table', type='px', value='2px'), table_border_bottom_color=OptionsInfo(scss=True, category='table', type='value', value='#929292'), table_border_left_style=OptionsInfo(scss=True, category='table', type='value', value='none'), table_border_left_width=OptionsInfo(scss=True, category='table', type='px', value='2px'), table_border_left_color=OptionsInfo(scss=True, category='table', type='value', value='#D3D3D3'), heading_background_color=OptionsInfo(scss=True, category='heading', type='value', value=None), heading_align=OptionsInfo(scss=True, category='heading', type='value', value='center'), heading_title_font_size=OptionsInfo(scss=True, category='heading', type='px', value='125%'), heading_title_font_weight=OptionsInfo(scss=True, category='heading', type='value', value='initial'), heading_subtitle_font_size=OptionsInfo(scss=True, category='heading', type='px', value='85%'), heading_subtitle_font_weight=OptionsInfo(scss=True, category='heading', type='value', value='initial'), heading_padding=OptionsInfo(scss=True, category='heading', type='px', value='4px'), heading_padding_horizontal=OptionsInfo(scss=True, category='heading', type='px', value='5px'), heading_border_bottom_style=OptionsInfo(scss=True, category='heading', type='value', value='solid'), heading_border_bottom_width=OptionsInfo(scss=True, category='heading', type='px', value='2px'), heading_border_bottom_color=OptionsInfo(scss=True, category='heading', type='value', value='#929292'), heading_border_lr_style=OptionsInfo(scss=True, category='heading', type='value', value='none'), heading_border_lr_width=OptionsInfo(scss=True, category='heading', type='px', value='1px'), heading_border_lr_color=OptionsInfo(scss=True, category='heading', type='value', value='#D3D3D3'), column_labels_background_color=OptionsInfo(scss=True, category='column_labels', type='value', value='#004D80'), column_labels_font_size=OptionsInfo(scss=True, category='column_labels', type='px', value='100%'), column_labels_font_weight=OptionsInfo(scss=True, category='column_labels', type='value', value='normal'), column_labels_text_transform=OptionsInfo(scss=True, category='column_labels', type='value', value='inherit'), column_labels_padding=OptionsInfo(scss=True, category='column_labels', type='px', value='5px'), column_labels_padding_horizontal=OptionsInfo(scss=True, category='column_labels', type='px', value='5px'), column_labels_vlines_style=OptionsInfo(scss=True, category='table_body', type='value', value='none'), column_labels_vlines_width=OptionsInfo(scss=True, category='table_body', type='px', value='1px'), column_labels_vlines_color=OptionsInfo(scss=True, category='table_body', type='value', value='#D3D3D3'), column_labels_border_top_style=OptionsInfo(scss=True, category='column_labels', type='value', value='solid'), column_labels_border_top_width=OptionsInfo(scss=True, category='column_labels', type='px', value='2px'), column_labels_border_top_color=OptionsInfo(scss=True, category='column_labels', type='value', value='#929292'), column_labels_border_bottom_style=OptionsInfo(scss=True, category='column_labels', type='value', value='solid'), column_labels_border_bottom_width=OptionsInfo(scss=True, category='column_labels', type='px', value='2px'), column_labels_border_bottom_color=OptionsInfo(scss=True, category='column_labels', type='value', value='#929292'), column_labels_border_lr_style=OptionsInfo(scss=True, category='column_labels', type='value', value='none'), column_labels_border_lr_width=OptionsInfo(scss=True, category='column_labels', type='px', value='1px'), column_labels_border_lr_color=OptionsInfo(scss=True, category='column_labels', type='value', value='#D3D3D3'), column_labels_hidden=OptionsInfo(scss=False, category='column_labels', type='boolean', value=False), row_group_background_color=OptionsInfo(scss=True, category='row_group', type='value', value=None), row_group_font_size=OptionsInfo(scss=True, category='row_group', type='px', value='100%'), row_group_font_weight=OptionsInfo(scss=True, category='row_group', type='value', value='initial'), row_group_text_transform=OptionsInfo(scss=True, category='row_group', type='value', value='inherit'), row_group_padding=OptionsInfo(scss=True, category='row_group', type='px', value='8px'), row_group_padding_horizontal=OptionsInfo(scss=True, category='row_group', type='px', value='5px'), row_group_border_top_style=OptionsInfo(scss=True, category='row_group', type='value', value='solid'), row_group_border_top_width=OptionsInfo(scss=True, category='row_group', type='px', value='2px'), row_group_border_top_color=OptionsInfo(scss=True, category='row_group', type='value', value='#929292'), row_group_border_right_style=OptionsInfo(scss=True, category='row_group', type='value', value='none'), row_group_border_right_width=OptionsInfo(scss=True, category='row_group', type='px', value='1px'), row_group_border_right_color=OptionsInfo(scss=True, category='row_group', type='value', value='#D3D3D3'), row_group_border_bottom_style=OptionsInfo(scss=True, category='row_group', type='value', value='solid'), row_group_border_bottom_width=OptionsInfo(scss=True, category='row_group', type='px', value='2px'), row_group_border_bottom_color=OptionsInfo(scss=True, category='row_group', type='value', value='#929292'), row_group_border_left_style=OptionsInfo(scss=True, category='row_group', type='value', value='none'), row_group_border_left_width=OptionsInfo(scss=True, category='row_group', type='px', value='1px'), row_group_border_left_color=OptionsInfo(scss=True, category='row_group', type='value', value='#D3D3D3'), row_group_as_column=OptionsInfo(scss=False, category='row_group', type='boolean', value=False), table_body_hlines_style=OptionsInfo(scss=True, category='table_body', type='value', value='dashed'), table_body_hlines_width=OptionsInfo(scss=True, category='table_body', type='px', value='1px'), table_body_hlines_color=OptionsInfo(scss=True, category='table_body', type='value', value='#929292'), table_body_vlines_style=OptionsInfo(scss=True, category='table_body', type='value', value='none'), table_body_vlines_width=OptionsInfo(scss=True, category='table_body', type='px', value='1px'), table_body_vlines_color=OptionsInfo(scss=True, category='table_body', type='value', value='#929292'), table_body_border_top_style=OptionsInfo(scss=True, category='table_body', type='value', value='solid'), table_body_border_top_width=OptionsInfo(scss=True, category='table_body', type='px', value='2px'), table_body_border_top_color=OptionsInfo(scss=True, category='table_body', type='value', value='#929292'), table_body_border_bottom_style=OptionsInfo(scss=True, category='table_body', type='value', value='solid'), table_body_border_bottom_width=OptionsInfo(scss=True, category='table_body', type='px', value='2px'), table_body_border_bottom_color=OptionsInfo(scss=True, category='table_body', type='value', value='#929292'), data_row_padding=OptionsInfo(scss=True, category='data_row', type='px', value='8px'), data_row_padding_horizontal=OptionsInfo(scss=True, category='data_row', type='px', value='5px'), stub_background_color=OptionsInfo(scss=True, category='stub', type='value', value='#D5D5D5'), stub_font_size=OptionsInfo(scss=True, category='stub', type='px', value='100%'), stub_font_weight=OptionsInfo(scss=True, category='stub', type='value', value='initial'), stub_text_transform=OptionsInfo(scss=True, category='stub', type='value', value='inherit'), stub_border_style=OptionsInfo(scss=True, category='stub', type='value', value='none'), stub_border_width=OptionsInfo(scss=True, category='stub', type='px', value='2px'), stub_border_color=OptionsInfo(scss=True, category='stub', type='value', value='#FFFFFF'), stub_row_group_background_color=OptionsInfo(scss=True, category='stub', type='value', value=None), stub_row_group_font_size=OptionsInfo(scss=True, category='stub', type='px', value='100%'), stub_row_group_font_weight=OptionsInfo(scss=True, category='stub', type='value', value='initial'), stub_row_group_text_transform=OptionsInfo(scss=True, category='stub', type='value', value='inherit'), stub_row_group_border_style=OptionsInfo(scss=True, category='stub', type='value', value='solid'), stub_row_group_border_width=OptionsInfo(scss=True, category='stub', type='px', value='2px'), stub_row_group_border_color=OptionsInfo(scss=True, category='stub', type='value', value='#D3D3D3'), source_notes_padding=OptionsInfo(scss=True, category='source_notes', type='px', value='4px'), source_notes_padding_horizontal=OptionsInfo(scss=True, category='source_notes', type='px', value='5px'), source_notes_background_color=OptionsInfo(scss=True, category='source_notes', type='value', value=None), source_notes_font_size=OptionsInfo(scss=True, category='source_notes', type='px', value='90%'), source_notes_border_bottom_style=OptionsInfo(scss=True, category='source_notes', type='value', value='none'), source_notes_border_bottom_width=OptionsInfo(scss=True, category='source_notes', type='px', value='2px'), source_notes_border_bottom_color=OptionsInfo(scss=True, category='source_notes', type='value', value='#D3D3D3'), source_notes_border_lr_style=OptionsInfo(scss=True, category='source_notes', type='value', value='none'), source_notes_border_lr_width=OptionsInfo(scss=True, category='source_notes', type='px', value='2px'), source_notes_border_lr_color=OptionsInfo(scss=True, category='source_notes', type='value', value='#D3D3D3'), source_notes_multiline=OptionsInfo(scss=False, category='source_notes', type='boolean', value=True), source_notes_sep=OptionsInfo(scss=False, category='source_notes', type='value', value=' '), row_striping_background_color=OptionsInfo(scss=True, category='row', type='value', value='#F4F4F4'), row_striping_include_stub=OptionsInfo(scss=False, category='row', type='boolean', value=False), row_striping_include_table_body=OptionsInfo(scss=False, category='row', type='boolean', value=['True']), container_width=OptionsInfo(scss=False, category='container', type='px', value='auto'), container_height=OptionsInfo(scss=False, category='container', type='px', value='auto'), container_padding_x=OptionsInfo(scss=False, category='container', type='px', value='0px'), container_padding_y=OptionsInfo(scss=False, category='container', type='px', value='10px'), container_overflow_x=OptionsInfo(scss=False, category='container', type='overflow', value='auto'), container_overflow_y=OptionsInfo(scss=False, category='container', type='overflow', value='auto'), quarto_disable_processing=OptionsInfo(scss=False, category='quarto', type='logical', value=False), quarto_use_bootstrap=OptionsInfo(scss=False, category='quarto', type='logical', value=False)), _google_font_imports=GoogleFontImports(imports=frozenset()), _has_built=False)"
      ]
     },
     "execution_count": 14,
     "metadata": {},
     "output_type": "execute_result"
    }
   ],
   "source": [
    "report = evaluate_offline(\n",
    "    models,\n",
    "    environment=samples_eval,\n",
    "    metrics=metrics,\n",
    "    inputs=inputs,\n",
    "    outputs=outputs,\n",
    ")\n",
    "report.great_table()"
   ]
  },
  {
   "cell_type": "markdown",
   "id": "2e674663",
   "metadata": {},
   "source": [
    "\n",
    "###  Task 4.3 Select a Model and Visualization  \n",
    "\n"
   ]
  },
  {
   "cell_type": "code",
   "execution_count": 15,
   "id": "c18cea52",
   "metadata": {},
   "outputs": [
    {
     "name": "stderr",
     "output_type": "stream",
     "text": [
      "2025-09-09 08:22:17,876 [__main__][INFO] Best model: DecisionTreeRegressor\n"
     ]
    }
   ],
   "source": [
    "from _helper_functions import plot_predictions_vs_ground_truth\n",
    "\n",
    "best_model = models[0]\n",
    "logger.info(\"Best model: %s\", best_model.name)\n",
    "\n",
    "# Plots are saved under plots/\n",
    "plot_predictions_vs_ground_truth(\n",
    "    samples_eval=samples_eval.observe().collect(),\n",
    "    input_names=inputs,\n",
    "    output_names=outputs,\n",
    "    models=models,\n",
    ")"
   ]
  }
 ],
 "metadata": {
  "kernelspec": {
   "display_name": "ipin-2025-workshop (3.10.12)",
   "language": "python",
   "name": "python3"
  },
  "language_info": {
   "codemirror_mode": {
    "name": "ipython",
    "version": 3
   },
   "file_extension": ".py",
   "mimetype": "text/x-python",
   "name": "python",
   "nbconvert_exporter": "python",
   "pygments_lexer": "ipython3",
   "version": "3.10.12"
  }
 },
 "nbformat": 4,
 "nbformat_minor": 5
}
